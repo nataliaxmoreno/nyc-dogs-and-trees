{
 "cells": [
  {
   "cell_type": "code",
   "execution_count": 1,
   "id": "c4dfd226",
   "metadata": {},
   "outputs": [],
   "source": [
    "#import libraries and dependencies\n",
    "import pandas as pd\n",
    "import numpy as np\n",
    "import os\n",
    "import seaborn as sns\n",
    "import matplotlib.pyplot as plt\n",
    "from scipy import stats\n",
    "import csv\n",
    "import scipy.stats as st\n",
    "from scipy.stats import linregress, trim_mean\n",
    "from sklearn import preprocessing\n",
    "import statsmodels.api as st"
   ]
  },
  {
   "cell_type": "markdown",
   "id": "bb4b0590",
   "metadata": {},
   "source": [
    "DATA COLLECTION"
   ]
  },
  {
   "cell_type": "code",
   "execution_count": 2,
   "id": "5a6e4ecd",
   "metadata": {},
   "outputs": [],
   "source": [
    "trees = pd.read_csv('2015StreetTreesCensus_TREES (1).csv')\n"
   ]
  },
  {
   "cell_type": "code",
   "execution_count": 3,
   "id": "99c8bf80",
   "metadata": {},
   "outputs": [],
   "source": [
    "dog_license=pd.read_csv('NYC_Dog_Licensing_Dataset (2).csv')"
   ]
  },
  {
   "cell_type": "code",
   "execution_count": 4,
   "id": "31a25898",
   "metadata": {},
   "outputs": [],
   "source": [
    "import chardet\n",
    "# function to test if a file is in unicode\n",
    "def isItUnicode(filename):\n",
    "    with open(filename, 'rb') as f:\n",
    "        encodingInfo = chardet.detect(f.read())\n",
    "        if \"UTF\" not in encodingInfo['encoding']: \n",
    "            print(\"This isn't Unicode! It's\", encodingInfo['encoding'])\n",
    "        else: \n",
    "            print(\"Yep, it's Unicode.\")"
   ]
  },
  {
   "cell_type": "code",
   "execution_count": 5,
   "id": "b4a6a560",
   "metadata": {},
   "outputs": [
    {
     "name": "stdout",
     "output_type": "stream",
     "text": [
      "This isn't Unicode! It's Windows-1252\n"
     ]
    }
   ],
   "source": [
    "isItUnicode('AKC Breed Info.csv')"
   ]
  },
  {
   "cell_type": "code",
   "execution_count": 416,
   "id": "421f7be6",
   "metadata": {},
   "outputs": [],
   "source": [
    "breed_info=pd.read_csv('AKC Breed Info.csv', encoding='windows-1252')\n"
   ]
  },
  {
   "cell_type": "markdown",
   "id": "a8bd4513",
   "metadata": {},
   "source": [
    "# Trees dataset"
   ]
  },
  {
   "cell_type": "markdown",
   "id": "026cd429",
   "metadata": {},
   "source": [
    "considering that some of the colums of the tree census data are irrelevant for this project I proceed to drop them"
   ]
  },
  {
   "cell_type": "code",
   "execution_count": 7,
   "id": "4b683b41",
   "metadata": {},
   "outputs": [],
   "source": [
    "trees =trees.drop(columns=['tree_id','cncldist', 'block_id','user_type','state','st_assem','boro_ct','cb_num','borocode','zip_city','st_senate','nta','problems'])"
   ]
  },
  {
   "cell_type": "code",
   "execution_count": 8,
   "id": "a3df8c77",
   "metadata": {},
   "outputs": [
    {
     "data": {
      "text/html": [
       "<div>\n",
       "<style scoped>\n",
       "    .dataframe tbody tr th:only-of-type {\n",
       "        vertical-align: middle;\n",
       "    }\n",
       "\n",
       "    .dataframe tbody tr th {\n",
       "        vertical-align: top;\n",
       "    }\n",
       "\n",
       "    .dataframe thead th {\n",
       "        text-align: right;\n",
       "    }\n",
       "</style>\n",
       "<table border=\"1\" class=\"dataframe\">\n",
       "  <thead>\n",
       "    <tr style=\"text-align: right;\">\n",
       "      <th></th>\n",
       "      <th>created_at</th>\n",
       "      <th>the_geom</th>\n",
       "      <th>tree_dbh</th>\n",
       "      <th>stump_diam</th>\n",
       "      <th>curb_loc</th>\n",
       "      <th>status</th>\n",
       "      <th>health</th>\n",
       "      <th>spc_latin</th>\n",
       "      <th>spc_common</th>\n",
       "      <th>steward</th>\n",
       "      <th>...</th>\n",
       "      <th>brnch_shoe</th>\n",
       "      <th>brnch_othe</th>\n",
       "      <th>address</th>\n",
       "      <th>zipcode</th>\n",
       "      <th>boroname</th>\n",
       "      <th>nta_name</th>\n",
       "      <th>Latitude</th>\n",
       "      <th>longitude</th>\n",
       "      <th>x_sp</th>\n",
       "      <th>y_sp</th>\n",
       "    </tr>\n",
       "  </thead>\n",
       "  <tbody>\n",
       "    <tr>\n",
       "      <th>0</th>\n",
       "      <td>08/27/2015</td>\n",
       "      <td>POINT (-73.84421521958048 40.723091773924274)</td>\n",
       "      <td>3</td>\n",
       "      <td>0</td>\n",
       "      <td>OnCurb</td>\n",
       "      <td>Alive</td>\n",
       "      <td>Fair</td>\n",
       "      <td>Acer rubrum</td>\n",
       "      <td>red maple</td>\n",
       "      <td>None</td>\n",
       "      <td>...</td>\n",
       "      <td>No</td>\n",
       "      <td>No</td>\n",
       "      <td>108-005 70 AVENUE</td>\n",
       "      <td>11375</td>\n",
       "      <td>Queens</td>\n",
       "      <td>Forest Hills</td>\n",
       "      <td>40.723092</td>\n",
       "      <td>-73.844215</td>\n",
       "      <td>1,027,431.14821</td>\n",
       "      <td>202,756.768749</td>\n",
       "    </tr>\n",
       "    <tr>\n",
       "      <th>1</th>\n",
       "      <td>09/03/2015</td>\n",
       "      <td>POINT (-73.81867945834878 40.79411066708779)</td>\n",
       "      <td>21</td>\n",
       "      <td>0</td>\n",
       "      <td>OnCurb</td>\n",
       "      <td>Alive</td>\n",
       "      <td>Fair</td>\n",
       "      <td>Quercus palustris</td>\n",
       "      <td>pin oak</td>\n",
       "      <td>None</td>\n",
       "      <td>...</td>\n",
       "      <td>No</td>\n",
       "      <td>No</td>\n",
       "      <td>147-074 7 AVENUE</td>\n",
       "      <td>11357</td>\n",
       "      <td>Queens</td>\n",
       "      <td>Whitestone</td>\n",
       "      <td>40.794111</td>\n",
       "      <td>-73.818679</td>\n",
       "      <td>1,034,455.70109</td>\n",
       "      <td>228,644.837379</td>\n",
       "    </tr>\n",
       "    <tr>\n",
       "      <th>2</th>\n",
       "      <td>09/05/2015</td>\n",
       "      <td>POINT (-73.93660770459083 40.717580740099116)</td>\n",
       "      <td>3</td>\n",
       "      <td>0</td>\n",
       "      <td>OnCurb</td>\n",
       "      <td>Alive</td>\n",
       "      <td>Good</td>\n",
       "      <td>Gleditsia triacanthos var. inermis</td>\n",
       "      <td>honeylocust</td>\n",
       "      <td>1or2</td>\n",
       "      <td>...</td>\n",
       "      <td>No</td>\n",
       "      <td>No</td>\n",
       "      <td>390 MORGAN AVENUE</td>\n",
       "      <td>11211</td>\n",
       "      <td>Brooklyn</td>\n",
       "      <td>East Williamsburg</td>\n",
       "      <td>40.717581</td>\n",
       "      <td>-73.936608</td>\n",
       "      <td>1,001,822.83131</td>\n",
       "      <td>200,716.891267</td>\n",
       "    </tr>\n",
       "    <tr>\n",
       "      <th>3</th>\n",
       "      <td>09/05/2015</td>\n",
       "      <td>POINT (-73.93445615919741 40.713537494833226)</td>\n",
       "      <td>10</td>\n",
       "      <td>0</td>\n",
       "      <td>OnCurb</td>\n",
       "      <td>Alive</td>\n",
       "      <td>Good</td>\n",
       "      <td>Gleditsia triacanthos var. inermis</td>\n",
       "      <td>honeylocust</td>\n",
       "      <td>None</td>\n",
       "      <td>...</td>\n",
       "      <td>No</td>\n",
       "      <td>No</td>\n",
       "      <td>1027 GRAND STREET</td>\n",
       "      <td>11211</td>\n",
       "      <td>Brooklyn</td>\n",
       "      <td>East Williamsburg</td>\n",
       "      <td>40.713537</td>\n",
       "      <td>-73.934456</td>\n",
       "      <td>1,002,420.35833</td>\n",
       "      <td>199,244.253136</td>\n",
       "    </tr>\n",
       "    <tr>\n",
       "      <th>4</th>\n",
       "      <td>08/30/2015</td>\n",
       "      <td>POINT (-73.97597938483258 40.66677775537875)</td>\n",
       "      <td>21</td>\n",
       "      <td>0</td>\n",
       "      <td>OnCurb</td>\n",
       "      <td>Alive</td>\n",
       "      <td>Good</td>\n",
       "      <td>Tilia americana</td>\n",
       "      <td>American linden</td>\n",
       "      <td>None</td>\n",
       "      <td>...</td>\n",
       "      <td>No</td>\n",
       "      <td>No</td>\n",
       "      <td>603 6 STREET</td>\n",
       "      <td>11215</td>\n",
       "      <td>Brooklyn</td>\n",
       "      <td>Park Slope-Gowanus</td>\n",
       "      <td>40.666778</td>\n",
       "      <td>-73.975979</td>\n",
       "      <td>990,913.775046</td>\n",
       "      <td>182,202.425999</td>\n",
       "    </tr>\n",
       "  </tbody>\n",
       "</table>\n",
       "<p>5 rows × 29 columns</p>\n",
       "</div>"
      ],
      "text/plain": [
       "   created_at                                       the_geom  tree_dbh  \\\n",
       "0  08/27/2015  POINT (-73.84421521958048 40.723091773924274)         3   \n",
       "1  09/03/2015   POINT (-73.81867945834878 40.79411066708779)        21   \n",
       "2  09/05/2015  POINT (-73.93660770459083 40.717580740099116)         3   \n",
       "3  09/05/2015  POINT (-73.93445615919741 40.713537494833226)        10   \n",
       "4  08/30/2015   POINT (-73.97597938483258 40.66677775537875)        21   \n",
       "\n",
       "   stump_diam curb_loc status health                           spc_latin  \\\n",
       "0           0   OnCurb  Alive   Fair                         Acer rubrum   \n",
       "1           0   OnCurb  Alive   Fair                   Quercus palustris   \n",
       "2           0   OnCurb  Alive   Good  Gleditsia triacanthos var. inermis   \n",
       "3           0   OnCurb  Alive   Good  Gleditsia triacanthos var. inermis   \n",
       "4           0   OnCurb  Alive   Good                     Tilia americana   \n",
       "\n",
       "        spc_common steward  ... brnch_shoe brnch_othe            address  \\\n",
       "0        red maple    None  ...         No         No  108-005 70 AVENUE   \n",
       "1          pin oak    None  ...         No         No   147-074 7 AVENUE   \n",
       "2      honeylocust    1or2  ...         No         No  390 MORGAN AVENUE   \n",
       "3      honeylocust    None  ...         No         No  1027 GRAND STREET   \n",
       "4  American linden    None  ...         No         No       603 6 STREET   \n",
       "\n",
       "  zipcode  boroname            nta_name   Latitude  longitude  \\\n",
       "0   11375    Queens        Forest Hills  40.723092 -73.844215   \n",
       "1   11357    Queens          Whitestone  40.794111 -73.818679   \n",
       "2   11211  Brooklyn   East Williamsburg  40.717581 -73.936608   \n",
       "3   11211  Brooklyn   East Williamsburg  40.713537 -73.934456   \n",
       "4   11215  Brooklyn  Park Slope-Gowanus  40.666778 -73.975979   \n",
       "\n",
       "              x_sp            y_sp  \n",
       "0  1,027,431.14821  202,756.768749  \n",
       "1  1,034,455.70109  228,644.837379  \n",
       "2  1,001,822.83131  200,716.891267  \n",
       "3  1,002,420.35833  199,244.253136  \n",
       "4   990,913.775046  182,202.425999  \n",
       "\n",
       "[5 rows x 29 columns]"
      ]
     },
     "execution_count": 8,
     "metadata": {},
     "output_type": "execute_result"
    }
   ],
   "source": [
    "trees.head()"
   ]
  },
  {
   "cell_type": "code",
   "execution_count": 9,
   "id": "ed12230d",
   "metadata": {},
   "outputs": [
    {
     "data": {
      "text/plain": [
       "created_at     object\n",
       "the_geom       object\n",
       "tree_dbh        int64\n",
       "stump_diam      int64\n",
       "curb_loc       object\n",
       "status         object\n",
       "health         object\n",
       "spc_latin      object\n",
       "spc_common     object\n",
       "steward        object\n",
       "guards         object\n",
       "sidewalk       object\n",
       "root_stone     object\n",
       "root_grate     object\n",
       "root_other     object\n",
       "trnk_wire      object\n",
       "trnk_light     object\n",
       "trnk_other     object\n",
       "brnch_ligh     object\n",
       "brnch_shoe     object\n",
       "brnch_othe     object\n",
       "address        object\n",
       "zipcode         int64\n",
       "boroname       object\n",
       "nta_name       object\n",
       "Latitude      float64\n",
       "longitude     float64\n",
       "x_sp           object\n",
       "y_sp           object\n",
       "dtype: object"
      ]
     },
     "execution_count": 9,
     "metadata": {},
     "output_type": "execute_result"
    }
   ],
   "source": [
    "trees.dtypes"
   ]
  },
  {
   "cell_type": "code",
   "execution_count": 10,
   "id": "a5fe1d8b",
   "metadata": {},
   "outputs": [],
   "source": [
    "trees['created_at']=pd.to_datetime(trees['created_at'],infer_datetime_format=True)"
   ]
  },
  {
   "cell_type": "code",
   "execution_count": 446,
   "id": "07be86df",
   "metadata": {
    "scrolled": false
   },
   "outputs": [
    {
     "data": {
      "text/plain": [
       "created_at    0\n",
       "the_geom      0\n",
       "tree_dbh      0\n",
       "curb_loc      0\n",
       "status        0\n",
       "health        0\n",
       "spc_latin     4\n",
       "spc_common    4\n",
       "steward       0\n",
       "guards        0\n",
       "sidewalk      0\n",
       "root_stone    0\n",
       "root_grate    0\n",
       "root_other    0\n",
       "trnk_wire     0\n",
       "trnk_light    0\n",
       "trnk_other    0\n",
       "brnch_ligh    0\n",
       "brnch_shoe    0\n",
       "brnch_othe    0\n",
       "address       0\n",
       "zipcode       0\n",
       "boroname      0\n",
       "nta_name      0\n",
       "Latitude      0\n",
       "longitude     0\n",
       "x_sp          0\n",
       "y_sp          0\n",
       "dtype: int64"
      ]
     },
     "execution_count": 446,
     "metadata": {},
     "output_type": "execute_result"
    }
   ],
   "source": [
    "missing_values_count = trees.isnull().sum()\n",
    "missing_values_count"
   ]
  },
  {
   "cell_type": "markdown",
   "id": "f4edc65d",
   "metadata": {},
   "source": [
    "we can combine the columns tree status and tree heatlh "
   ]
  },
  {
   "cell_type": "code",
   "execution_count": 12,
   "id": "4aaeb6f4",
   "metadata": {},
   "outputs": [],
   "source": [
    "trees['health']=trees['health'].fillna(trees['status'])"
   ]
  },
  {
   "cell_type": "code",
   "execution_count": 13,
   "id": "ea5a4532",
   "metadata": {},
   "outputs": [],
   "source": [
    "trees =trees.dropna(subset=['steward','guards','sidewalk'])"
   ]
  },
  {
   "cell_type": "code",
   "execution_count": 14,
   "id": "abbe6dc6",
   "metadata": {},
   "outputs": [
    {
     "data": {
      "text/html": [
       "<div>\n",
       "<style scoped>\n",
       "    .dataframe tbody tr th:only-of-type {\n",
       "        vertical-align: middle;\n",
       "    }\n",
       "\n",
       "    .dataframe tbody tr th {\n",
       "        vertical-align: top;\n",
       "    }\n",
       "\n",
       "    .dataframe thead th {\n",
       "        text-align: right;\n",
       "    }\n",
       "</style>\n",
       "<table border=\"1\" class=\"dataframe\">\n",
       "  <thead>\n",
       "    <tr style=\"text-align: right;\">\n",
       "      <th></th>\n",
       "      <th>created_at</th>\n",
       "      <th>the_geom</th>\n",
       "      <th>tree_dbh</th>\n",
       "      <th>stump_diam</th>\n",
       "      <th>curb_loc</th>\n",
       "      <th>status</th>\n",
       "      <th>health</th>\n",
       "      <th>spc_latin</th>\n",
       "      <th>spc_common</th>\n",
       "      <th>steward</th>\n",
       "      <th>...</th>\n",
       "      <th>brnch_shoe</th>\n",
       "      <th>brnch_othe</th>\n",
       "      <th>address</th>\n",
       "      <th>zipcode</th>\n",
       "      <th>boroname</th>\n",
       "      <th>nta_name</th>\n",
       "      <th>Latitude</th>\n",
       "      <th>longitude</th>\n",
       "      <th>x_sp</th>\n",
       "      <th>y_sp</th>\n",
       "    </tr>\n",
       "  </thead>\n",
       "  <tbody>\n",
       "    <tr>\n",
       "      <th>0</th>\n",
       "      <td>2015-08-27</td>\n",
       "      <td>POINT (-73.84421521958048 40.723091773924274)</td>\n",
       "      <td>3</td>\n",
       "      <td>0</td>\n",
       "      <td>OnCurb</td>\n",
       "      <td>Alive</td>\n",
       "      <td>Fair</td>\n",
       "      <td>Acer rubrum</td>\n",
       "      <td>red maple</td>\n",
       "      <td>None</td>\n",
       "      <td>...</td>\n",
       "      <td>No</td>\n",
       "      <td>No</td>\n",
       "      <td>108-005 70 AVENUE</td>\n",
       "      <td>11375</td>\n",
       "      <td>Queens</td>\n",
       "      <td>Forest Hills</td>\n",
       "      <td>40.723092</td>\n",
       "      <td>-73.844215</td>\n",
       "      <td>1,027,431.14821</td>\n",
       "      <td>202,756.768749</td>\n",
       "    </tr>\n",
       "    <tr>\n",
       "      <th>1</th>\n",
       "      <td>2015-09-03</td>\n",
       "      <td>POINT (-73.81867945834878 40.79411066708779)</td>\n",
       "      <td>21</td>\n",
       "      <td>0</td>\n",
       "      <td>OnCurb</td>\n",
       "      <td>Alive</td>\n",
       "      <td>Fair</td>\n",
       "      <td>Quercus palustris</td>\n",
       "      <td>pin oak</td>\n",
       "      <td>None</td>\n",
       "      <td>...</td>\n",
       "      <td>No</td>\n",
       "      <td>No</td>\n",
       "      <td>147-074 7 AVENUE</td>\n",
       "      <td>11357</td>\n",
       "      <td>Queens</td>\n",
       "      <td>Whitestone</td>\n",
       "      <td>40.794111</td>\n",
       "      <td>-73.818679</td>\n",
       "      <td>1,034,455.70109</td>\n",
       "      <td>228,644.837379</td>\n",
       "    </tr>\n",
       "    <tr>\n",
       "      <th>2</th>\n",
       "      <td>2015-09-05</td>\n",
       "      <td>POINT (-73.93660770459083 40.717580740099116)</td>\n",
       "      <td>3</td>\n",
       "      <td>0</td>\n",
       "      <td>OnCurb</td>\n",
       "      <td>Alive</td>\n",
       "      <td>Good</td>\n",
       "      <td>Gleditsia triacanthos var. inermis</td>\n",
       "      <td>honeylocust</td>\n",
       "      <td>1or2</td>\n",
       "      <td>...</td>\n",
       "      <td>No</td>\n",
       "      <td>No</td>\n",
       "      <td>390 MORGAN AVENUE</td>\n",
       "      <td>11211</td>\n",
       "      <td>Brooklyn</td>\n",
       "      <td>East Williamsburg</td>\n",
       "      <td>40.717581</td>\n",
       "      <td>-73.936608</td>\n",
       "      <td>1,001,822.83131</td>\n",
       "      <td>200,716.891267</td>\n",
       "    </tr>\n",
       "    <tr>\n",
       "      <th>3</th>\n",
       "      <td>2015-09-05</td>\n",
       "      <td>POINT (-73.93445615919741 40.713537494833226)</td>\n",
       "      <td>10</td>\n",
       "      <td>0</td>\n",
       "      <td>OnCurb</td>\n",
       "      <td>Alive</td>\n",
       "      <td>Good</td>\n",
       "      <td>Gleditsia triacanthos var. inermis</td>\n",
       "      <td>honeylocust</td>\n",
       "      <td>None</td>\n",
       "      <td>...</td>\n",
       "      <td>No</td>\n",
       "      <td>No</td>\n",
       "      <td>1027 GRAND STREET</td>\n",
       "      <td>11211</td>\n",
       "      <td>Brooklyn</td>\n",
       "      <td>East Williamsburg</td>\n",
       "      <td>40.713537</td>\n",
       "      <td>-73.934456</td>\n",
       "      <td>1,002,420.35833</td>\n",
       "      <td>199,244.253136</td>\n",
       "    </tr>\n",
       "    <tr>\n",
       "      <th>4</th>\n",
       "      <td>2015-08-30</td>\n",
       "      <td>POINT (-73.97597938483258 40.66677775537875)</td>\n",
       "      <td>21</td>\n",
       "      <td>0</td>\n",
       "      <td>OnCurb</td>\n",
       "      <td>Alive</td>\n",
       "      <td>Good</td>\n",
       "      <td>Tilia americana</td>\n",
       "      <td>American linden</td>\n",
       "      <td>None</td>\n",
       "      <td>...</td>\n",
       "      <td>No</td>\n",
       "      <td>No</td>\n",
       "      <td>603 6 STREET</td>\n",
       "      <td>11215</td>\n",
       "      <td>Brooklyn</td>\n",
       "      <td>Park Slope-Gowanus</td>\n",
       "      <td>40.666778</td>\n",
       "      <td>-73.975979</td>\n",
       "      <td>990,913.775046</td>\n",
       "      <td>182,202.425999</td>\n",
       "    </tr>\n",
       "  </tbody>\n",
       "</table>\n",
       "<p>5 rows × 29 columns</p>\n",
       "</div>"
      ],
      "text/plain": [
       "  created_at                                       the_geom  tree_dbh  \\\n",
       "0 2015-08-27  POINT (-73.84421521958048 40.723091773924274)         3   \n",
       "1 2015-09-03   POINT (-73.81867945834878 40.79411066708779)        21   \n",
       "2 2015-09-05  POINT (-73.93660770459083 40.717580740099116)         3   \n",
       "3 2015-09-05  POINT (-73.93445615919741 40.713537494833226)        10   \n",
       "4 2015-08-30   POINT (-73.97597938483258 40.66677775537875)        21   \n",
       "\n",
       "   stump_diam curb_loc status health                           spc_latin  \\\n",
       "0           0   OnCurb  Alive   Fair                         Acer rubrum   \n",
       "1           0   OnCurb  Alive   Fair                   Quercus palustris   \n",
       "2           0   OnCurb  Alive   Good  Gleditsia triacanthos var. inermis   \n",
       "3           0   OnCurb  Alive   Good  Gleditsia triacanthos var. inermis   \n",
       "4           0   OnCurb  Alive   Good                     Tilia americana   \n",
       "\n",
       "        spc_common steward  ... brnch_shoe brnch_othe            address  \\\n",
       "0        red maple    None  ...         No         No  108-005 70 AVENUE   \n",
       "1          pin oak    None  ...         No         No   147-074 7 AVENUE   \n",
       "2      honeylocust    1or2  ...         No         No  390 MORGAN AVENUE   \n",
       "3      honeylocust    None  ...         No         No  1027 GRAND STREET   \n",
       "4  American linden    None  ...         No         No       603 6 STREET   \n",
       "\n",
       "  zipcode  boroname            nta_name   Latitude  longitude  \\\n",
       "0   11375    Queens        Forest Hills  40.723092 -73.844215   \n",
       "1   11357    Queens          Whitestone  40.794111 -73.818679   \n",
       "2   11211  Brooklyn   East Williamsburg  40.717581 -73.936608   \n",
       "3   11211  Brooklyn   East Williamsburg  40.713537 -73.934456   \n",
       "4   11215  Brooklyn  Park Slope-Gowanus  40.666778 -73.975979   \n",
       "\n",
       "              x_sp            y_sp  \n",
       "0  1,027,431.14821  202,756.768749  \n",
       "1  1,034,455.70109  228,644.837379  \n",
       "2  1,001,822.83131  200,716.891267  \n",
       "3  1,002,420.35833  199,244.253136  \n",
       "4   990,913.775046  182,202.425999  \n",
       "\n",
       "[5 rows x 29 columns]"
      ]
     },
     "execution_count": 14,
     "metadata": {},
     "output_type": "execute_result"
    }
   ],
   "source": [
    "trees.head()"
   ]
  },
  {
   "cell_type": "code",
   "execution_count": 441,
   "id": "5c1f23a5",
   "metadata": {},
   "outputs": [],
   "source": [
    "trees =trees.drop(columns=['stump_diam'])"
   ]
  },
  {
   "cell_type": "markdown",
   "id": "ee701bf4",
   "metadata": {},
   "source": [
    "the tree data set contains one continuous variable which is the tree dbh that stands for the tree diameter, several binary variables and some ordinal and categorical variables as well. in the following lines of code I will make some graphs for exploratory data analysis"
   ]
  },
  {
   "cell_type": "markdown",
   "id": "f1d2bd80",
   "metadata": {},
   "source": [
    "### quantitative stats estimates of location and variability"
   ]
  },
  {
   "cell_type": "code",
   "execution_count": 442,
   "id": "a3952d84",
   "metadata": {},
   "outputs": [
    {
     "data": {
      "text/plain": [
       "count    652171.000000\n",
       "mean         11.709493\n",
       "std           8.634250\n",
       "min           0.000000\n",
       "25%           5.000000\n",
       "50%          10.000000\n",
       "75%          16.000000\n",
       "max         425.000000\n",
       "Name: tree_dbh, dtype: float64"
      ]
     },
     "execution_count": 442,
     "metadata": {},
     "output_type": "execute_result"
    }
   ],
   "source": [
    "trees['tree_dbh'].describe()"
   ]
  },
  {
   "cell_type": "code",
   "execution_count": 447,
   "id": "72a29e7d",
   "metadata": {},
   "outputs": [
    {
     "data": {
      "text/plain": [
       "[Text(0, 0, 'Queens'),\n",
       " Text(1, 0, 'Brooklyn'),\n",
       " Text(2, 0, 'Manhattan'),\n",
       " Text(3, 0, 'Staten Island'),\n",
       " Text(4, 0, 'Bronx')]"
      ]
     },
     "execution_count": 447,
     "metadata": {},
     "output_type": "execute_result"
    },
    {
     "data": {
      "image/png": "[encoded data removed]",
      "text/plain": [
       "<Figure size 432x288 with 1 Axes>"
      ]
     },
     "metadata": {
      "needs_background": "light"
     },
     "output_type": "display_data"
    }
   ],
   "source": [
    "ax =sns.boxplot(x = trees['boroname'],\n",
    "            y = trees['tree_dbh'],\n",
    "                        palette = 'Set2', width=0.5)\n",
    "ax.set_xticklabels(ax.get_xticklabels(), rotation=40, ha=\"right\") "
   ]
  },
  {
   "cell_type": "code",
   "execution_count": 452,
   "id": "88c2d5c0",
   "metadata": {},
   "outputs": [
    {
     "data": {
      "image/png": "[encoded data removed]",
      "text/plain": [
       "<Figure size 432x288 with 1 Axes>"
      ]
     },
     "metadata": {
      "needs_background": "light"
     },
     "output_type": "display_data"
    }
   ],
   "source": [
    "ax =sns.boxplot(y = trees['tree_dbh'])"
   ]
  },
  {
   "cell_type": "code",
   "execution_count": 449,
   "id": "54d0b132",
   "metadata": {},
   "outputs": [
    {
     "data": {
      "text/plain": [
       "Text(0.5, 1.0, 'trees diameter histogram')"
      ]
     },
     "execution_count": 449,
     "metadata": {},
     "output_type": "execute_result"
    },
    {
     "data": {
      "image/png": "[encoded data removed]",
      "text/plain": [
       "<Figure size 432x288 with 1 Axes>"
      ]
     },
     "metadata": {
      "needs_background": "light"
     },
     "output_type": "display_data"
    }
   ],
   "source": [
    "hist = trees.tree_dbh.hist(bins=70, range=[0, 200])\n",
    "plt.title(\"trees diameter histogram\")"
   ]
  },
  {
   "cell_type": "code",
   "execution_count": 450,
   "id": "15765137",
   "metadata": {},
   "outputs": [
    {
     "data": {
      "text/plain": [
       "Text(0.5, 1.0, 'trees per borough')"
      ]
     },
     "execution_count": 450,
     "metadata": {},
     "output_type": "execute_result"
    },
    {
     "data": {
      "image/png": "[encoded data removed]",
      "text/plain": [
       "<Figure size 432x288 with 1 Axes>"
      ]
     },
     "metadata": {
      "needs_background": "light"
     },
     "output_type": "display_data"
    }
   ],
   "source": [
    "trees['boroname'].value_counts().plot(kind='bar')\n",
    "plt.title(\"trees per borough\")"
   ]
  },
  {
   "cell_type": "markdown",
   "id": "a303686b",
   "metadata": {},
   "source": [
    "## dog registration"
   ]
  },
  {
   "cell_type": "code",
   "execution_count": 15,
   "id": "b879547d",
   "metadata": {},
   "outputs": [
    {
     "data": {
      "text/html": [
       "<div>\n",
       "<style scoped>\n",
       "    .dataframe tbody tr th:only-of-type {\n",
       "        vertical-align: middle;\n",
       "    }\n",
       "\n",
       "    .dataframe tbody tr th {\n",
       "        vertical-align: top;\n",
       "    }\n",
       "\n",
       "    .dataframe thead th {\n",
       "        text-align: right;\n",
       "    }\n",
       "</style>\n",
       "<table border=\"1\" class=\"dataframe\">\n",
       "  <thead>\n",
       "    <tr style=\"text-align: right;\">\n",
       "      <th></th>\n",
       "      <th>AnimalName</th>\n",
       "      <th>AnimalGender</th>\n",
       "      <th>AnimalBirthYear</th>\n",
       "      <th>BreedName</th>\n",
       "      <th>ZipCode</th>\n",
       "      <th>LicenseIssuedDate</th>\n",
       "      <th>LicenseExpiredDate</th>\n",
       "      <th>Extract Year</th>\n",
       "    </tr>\n",
       "  </thead>\n",
       "  <tbody>\n",
       "    <tr>\n",
       "      <th>0</th>\n",
       "      <td>PAIGE</td>\n",
       "      <td>F</td>\n",
       "      <td>2014</td>\n",
       "      <td>American Pit Bull Mix / Pit Bull Mix</td>\n",
       "      <td>10035.0</td>\n",
       "      <td>09/12/2014</td>\n",
       "      <td>09/12/2017</td>\n",
       "      <td>2016</td>\n",
       "    </tr>\n",
       "    <tr>\n",
       "      <th>1</th>\n",
       "      <td>YOGI</td>\n",
       "      <td>M</td>\n",
       "      <td>2010</td>\n",
       "      <td>Boxer</td>\n",
       "      <td>10465.0</td>\n",
       "      <td>09/12/2014</td>\n",
       "      <td>10/02/2017</td>\n",
       "      <td>2016</td>\n",
       "    </tr>\n",
       "    <tr>\n",
       "      <th>2</th>\n",
       "      <td>ALI</td>\n",
       "      <td>M</td>\n",
       "      <td>2014</td>\n",
       "      <td>Basenji</td>\n",
       "      <td>10013.0</td>\n",
       "      <td>09/12/2014</td>\n",
       "      <td>09/12/2019</td>\n",
       "      <td>2016</td>\n",
       "    </tr>\n",
       "    <tr>\n",
       "      <th>3</th>\n",
       "      <td>QUEEN</td>\n",
       "      <td>F</td>\n",
       "      <td>2013</td>\n",
       "      <td>Akita Crossbreed</td>\n",
       "      <td>10013.0</td>\n",
       "      <td>09/12/2014</td>\n",
       "      <td>09/12/2017</td>\n",
       "      <td>2016</td>\n",
       "    </tr>\n",
       "    <tr>\n",
       "      <th>4</th>\n",
       "      <td>LOLA</td>\n",
       "      <td>F</td>\n",
       "      <td>2009</td>\n",
       "      <td>Maltese</td>\n",
       "      <td>10028.0</td>\n",
       "      <td>09/12/2014</td>\n",
       "      <td>10/09/2017</td>\n",
       "      <td>2016</td>\n",
       "    </tr>\n",
       "  </tbody>\n",
       "</table>\n",
       "</div>"
      ],
      "text/plain": [
       "  AnimalName AnimalGender  AnimalBirthYear  \\\n",
       "0      PAIGE            F             2014   \n",
       "1       YOGI            M             2010   \n",
       "2        ALI            M             2014   \n",
       "3      QUEEN            F             2013   \n",
       "4       LOLA            F             2009   \n",
       "\n",
       "                              BreedName  ZipCode LicenseIssuedDate  \\\n",
       "0  American Pit Bull Mix / Pit Bull Mix  10035.0        09/12/2014   \n",
       "1                                 Boxer  10465.0        09/12/2014   \n",
       "2                               Basenji  10013.0        09/12/2014   \n",
       "3                      Akita Crossbreed  10013.0        09/12/2014   \n",
       "4                               Maltese  10028.0        09/12/2014   \n",
       "\n",
       "  LicenseExpiredDate  Extract Year  \n",
       "0         09/12/2017          2016  \n",
       "1         10/02/2017          2016  \n",
       "2         09/12/2019          2016  \n",
       "3         09/12/2017          2016  \n",
       "4         10/09/2017          2016  "
      ]
     },
     "execution_count": 15,
     "metadata": {},
     "output_type": "execute_result"
    }
   ],
   "source": [
    "dog_license.head()"
   ]
  },
  {
   "cell_type": "code",
   "execution_count": 436,
   "id": "bad7c29e",
   "metadata": {},
   "outputs": [
    {
     "data": {
      "text/plain": [
       "AnimalName                    object\n",
       "AnimalGender                  object\n",
       "AnimalBirthYear                int64\n",
       "BreedName                     object\n",
       "ZipCode                        int32\n",
       "LicenseIssuedDate     datetime64[ns]\n",
       "LicenseExpiredDate    datetime64[ns]\n",
       "Extract Year                   int64\n",
       "newbreed                      object\n",
       "dtype: object"
      ]
     },
     "execution_count": 436,
     "metadata": {},
     "output_type": "execute_result"
    }
   ],
   "source": [
    "dog_license.dtypes"
   ]
  },
  {
   "cell_type": "code",
   "execution_count": 32,
   "id": "f5b25d68",
   "metadata": {},
   "outputs": [
    {
     "data": {
      "text/plain": [
       "AnimalName            1027\n",
       "AnimalGender            21\n",
       "AnimalBirthYear          0\n",
       "BreedName                0\n",
       "ZipCode                  0\n",
       "LicenseIssuedDate        0\n",
       "LicenseExpiredDate      77\n",
       "Extract Year             0\n",
       "newbreed                 0\n",
       "dtype: int64"
      ]
     },
     "execution_count": 32,
     "metadata": {},
     "output_type": "execute_result"
    }
   ],
   "source": [
    "missing_values_count = dog_license.isnull().sum()\n",
    "missing_values_count"
   ]
  },
  {
   "cell_type": "code",
   "execution_count": 18,
   "id": "164fe93b",
   "metadata": {},
   "outputs": [],
   "source": [
    "dog_license =dog_license.dropna(subset=['ZipCode'])"
   ]
  },
  {
   "cell_type": "code",
   "execution_count": 19,
   "id": "c9c265e5",
   "metadata": {},
   "outputs": [],
   "source": [
    "dog_license[\"ZipCode\"]=dog_license[\"ZipCode\"].astype(int)\n",
    "dog_license['LicenseIssuedDate']=pd.to_datetime(dog_license['LicenseIssuedDate'],infer_datetime_format=True)\n",
    "dog_license['LicenseExpiredDate']=pd.to_datetime(dog_license['LicenseExpiredDate'],infer_datetime_format=True)\n"
   ]
  },
  {
   "cell_type": "code",
   "execution_count": 20,
   "id": "060eb233",
   "metadata": {},
   "outputs": [
    {
     "data": {
      "text/html": [
       "<div>\n",
       "<style scoped>\n",
       "    .dataframe tbody tr th:only-of-type {\n",
       "        vertical-align: middle;\n",
       "    }\n",
       "\n",
       "    .dataframe tbody tr th {\n",
       "        vertical-align: top;\n",
       "    }\n",
       "\n",
       "    .dataframe thead th {\n",
       "        text-align: right;\n",
       "    }\n",
       "</style>\n",
       "<table border=\"1\" class=\"dataframe\">\n",
       "  <thead>\n",
       "    <tr style=\"text-align: right;\">\n",
       "      <th></th>\n",
       "      <th>AnimalName</th>\n",
       "      <th>AnimalGender</th>\n",
       "      <th>AnimalBirthYear</th>\n",
       "      <th>BreedName</th>\n",
       "      <th>ZipCode</th>\n",
       "      <th>LicenseIssuedDate</th>\n",
       "      <th>LicenseExpiredDate</th>\n",
       "      <th>Extract Year</th>\n",
       "    </tr>\n",
       "  </thead>\n",
       "  <tbody>\n",
       "    <tr>\n",
       "      <th>0</th>\n",
       "      <td>PAIGE</td>\n",
       "      <td>F</td>\n",
       "      <td>2014</td>\n",
       "      <td>American Pit Bull Mix / Pit Bull Mix</td>\n",
       "      <td>10035</td>\n",
       "      <td>2014-09-12</td>\n",
       "      <td>2017-09-12</td>\n",
       "      <td>2016</td>\n",
       "    </tr>\n",
       "    <tr>\n",
       "      <th>1</th>\n",
       "      <td>YOGI</td>\n",
       "      <td>M</td>\n",
       "      <td>2010</td>\n",
       "      <td>Boxer</td>\n",
       "      <td>10465</td>\n",
       "      <td>2014-09-12</td>\n",
       "      <td>2017-10-02</td>\n",
       "      <td>2016</td>\n",
       "    </tr>\n",
       "    <tr>\n",
       "      <th>2</th>\n",
       "      <td>ALI</td>\n",
       "      <td>M</td>\n",
       "      <td>2014</td>\n",
       "      <td>Basenji</td>\n",
       "      <td>10013</td>\n",
       "      <td>2014-09-12</td>\n",
       "      <td>2019-09-12</td>\n",
       "      <td>2016</td>\n",
       "    </tr>\n",
       "    <tr>\n",
       "      <th>3</th>\n",
       "      <td>QUEEN</td>\n",
       "      <td>F</td>\n",
       "      <td>2013</td>\n",
       "      <td>Akita Crossbreed</td>\n",
       "      <td>10013</td>\n",
       "      <td>2014-09-12</td>\n",
       "      <td>2017-09-12</td>\n",
       "      <td>2016</td>\n",
       "    </tr>\n",
       "    <tr>\n",
       "      <th>4</th>\n",
       "      <td>LOLA</td>\n",
       "      <td>F</td>\n",
       "      <td>2009</td>\n",
       "      <td>Maltese</td>\n",
       "      <td>10028</td>\n",
       "      <td>2014-09-12</td>\n",
       "      <td>2017-10-09</td>\n",
       "      <td>2016</td>\n",
       "    </tr>\n",
       "  </tbody>\n",
       "</table>\n",
       "</div>"
      ],
      "text/plain": [
       "  AnimalName AnimalGender  AnimalBirthYear  \\\n",
       "0      PAIGE            F             2014   \n",
       "1       YOGI            M             2010   \n",
       "2        ALI            M             2014   \n",
       "3      QUEEN            F             2013   \n",
       "4       LOLA            F             2009   \n",
       "\n",
       "                              BreedName  ZipCode LicenseIssuedDate  \\\n",
       "0  American Pit Bull Mix / Pit Bull Mix    10035        2014-09-12   \n",
       "1                                 Boxer    10465        2014-09-12   \n",
       "2                               Basenji    10013        2014-09-12   \n",
       "3                      Akita Crossbreed    10013        2014-09-12   \n",
       "4                               Maltese    10028        2014-09-12   \n",
       "\n",
       "  LicenseExpiredDate  Extract Year  \n",
       "0         2017-09-12          2016  \n",
       "1         2017-10-02          2016  \n",
       "2         2019-09-12          2016  \n",
       "3         2017-09-12          2016  \n",
       "4         2017-10-09          2016  "
      ]
     },
     "execution_count": 20,
     "metadata": {},
     "output_type": "execute_result"
    }
   ],
   "source": [
    "dog_license.head()"
   ]
  },
  {
   "cell_type": "code",
   "execution_count": 21,
   "id": "46555777",
   "metadata": {},
   "outputs": [
    {
     "data": {
      "text/plain": [
       "1567"
      ]
     },
     "execution_count": 21,
     "metadata": {},
     "output_type": "execute_result"
    }
   ],
   "source": [
    "dog_license.BreedName.nunique()"
   ]
  },
  {
   "cell_type": "code",
   "execution_count": 22,
   "id": "ae4b0415",
   "metadata": {},
   "outputs": [],
   "source": [
    "# function to get unique values\n",
    "def unique(list1):\n",
    " \n",
    "    # initialize a null list\n",
    "    unique_list = []\n",
    " \n",
    "    # traverse for all elements\n",
    "    for x in list1:\n",
    "        # check if exists in unique_list or not\n",
    "        if x not in unique_list:\n",
    "            unique_list.append(x)\n",
    "            # print list\n",
    "    for x in unique_list:\n",
    "        print (x)"
   ]
  },
  {
   "cell_type": "code",
   "execution_count": 423,
   "id": "8f71627d",
   "metadata": {},
   "outputs": [
    {
     "data": {
      "text/html": [
       "<div>\n",
       "<style scoped>\n",
       "    .dataframe tbody tr th:only-of-type {\n",
       "        vertical-align: middle;\n",
       "    }\n",
       "\n",
       "    .dataframe tbody tr th {\n",
       "        vertical-align: top;\n",
       "    }\n",
       "\n",
       "    .dataframe thead th {\n",
       "        text-align: right;\n",
       "    }\n",
       "</style>\n",
       "<table border=\"1\" class=\"dataframe\">\n",
       "  <thead>\n",
       "    <tr style=\"text-align: right;\">\n",
       "      <th></th>\n",
       "      <th>Breed</th>\n",
       "      <th>height_low_inches</th>\n",
       "      <th>height_high_inches</th>\n",
       "      <th>weight_low_lbs</th>\n",
       "      <th>weight_high_lbs</th>\n",
       "    </tr>\n",
       "  </thead>\n",
       "  <tbody>\n",
       "    <tr>\n",
       "      <th>0</th>\n",
       "      <td>akita</td>\n",
       "      <td>26.0</td>\n",
       "      <td>28.0</td>\n",
       "      <td>80</td>\n",
       "      <td>120</td>\n",
       "    </tr>\n",
       "    <tr>\n",
       "      <th>1</th>\n",
       "      <td>anatolian sheepdog</td>\n",
       "      <td>27.0</td>\n",
       "      <td>29.0</td>\n",
       "      <td>100</td>\n",
       "      <td>150</td>\n",
       "    </tr>\n",
       "    <tr>\n",
       "      <th>2</th>\n",
       "      <td>bernese mountain dog</td>\n",
       "      <td>23.0</td>\n",
       "      <td>27.0</td>\n",
       "      <td>85</td>\n",
       "      <td>110</td>\n",
       "    </tr>\n",
       "    <tr>\n",
       "      <th>3</th>\n",
       "      <td>bloodhound</td>\n",
       "      <td>24.0</td>\n",
       "      <td>26.0</td>\n",
       "      <td>80</td>\n",
       "      <td>120</td>\n",
       "    </tr>\n",
       "    <tr>\n",
       "      <th>4</th>\n",
       "      <td>borzoi</td>\n",
       "      <td>26.0</td>\n",
       "      <td>28.0</td>\n",
       "      <td>70</td>\n",
       "      <td>100</td>\n",
       "    </tr>\n",
       "  </tbody>\n",
       "</table>\n",
       "</div>"
      ],
      "text/plain": [
       "                  Breed  height_low_inches  height_high_inches  \\\n",
       "0                 akita               26.0                28.0   \n",
       "1    anatolian sheepdog               27.0                29.0   \n",
       "2  bernese mountain dog               23.0                27.0   \n",
       "3            bloodhound               24.0                26.0   \n",
       "4                borzoi               26.0                28.0   \n",
       "\n",
       "   weight_low_lbs  weight_high_lbs  \n",
       "0              80              120  \n",
       "1             100              150  \n",
       "2              85              110  \n",
       "3              80              120  \n",
       "4              70              100  "
      ]
     },
     "execution_count": 423,
     "metadata": {},
     "output_type": "execute_result"
    }
   ],
   "source": [
    "breed_info.head()"
   ]
  },
  {
   "cell_type": "code",
   "execution_count": 420,
   "id": "535719eb",
   "metadata": {},
   "outputs": [
    {
     "data": {
      "text/plain": [
       "150"
      ]
     },
     "execution_count": 420,
     "metadata": {},
     "output_type": "execute_result"
    }
   ],
   "source": [
    "breed_info.Breed.nunique()"
   ]
  },
  {
   "cell_type": "code",
   "execution_count": 419,
   "id": "2225838e",
   "metadata": {},
   "outputs": [
    {
     "data": {
      "text/plain": [
       "Breed                  object\n",
       "height_low_inches     float64\n",
       "height_high_inches    float64\n",
       "weight_low_lbs          int64\n",
       "weight_high_lbs         int64\n",
       "dtype: object"
      ]
     },
     "execution_count": 419,
     "metadata": {},
     "output_type": "execute_result"
    }
   ],
   "source": [
    "breed_info.dtypes"
   ]
  },
  {
   "cell_type": "code",
   "execution_count": 417,
   "id": "e14d9f40",
   "metadata": {},
   "outputs": [],
   "source": [
    "breed_info=breed_info.replace('na', 0)\n",
    "breed_info=breed_info.replace('not found', 0)"
   ]
  },
  {
   "cell_type": "code",
   "execution_count": 418,
   "id": "a1a3c2a4",
   "metadata": {},
   "outputs": [],
   "source": [
    "breed_info[['height_low_inches', 'height_high_inches','weight_low_lbs','weight_high_lbs']] = breed_info[['height_low_inches', 'height_high_inches','weight_low_lbs','weight_high_lbs']].apply(pd.to_numeric)"
   ]
  },
  {
   "cell_type": "markdown",
   "id": "1bcf1881",
   "metadata": {},
   "source": [
    "we are facing a problem here where we need to standarize the breed information. We can make guesses as to the number of dog breeds that exist in the world, but we can’t know for certain. Different organizations that govern the recognition of dog breeds disagree about the number of official breeds. The FCI recognizes 360 breeds, so we can assume that there are at least this many dog breeds in existence. Since that number doesn’t include mixed breeds, even the popular and well-known designer breeds, we can only guess how many breeds truly exist across the globe."
   ]
  },
  {
   "cell_type": "code",
   "execution_count": 422,
   "id": "caad6bc4",
   "metadata": {},
   "outputs": [],
   "source": [
    "# convert to lower case\n",
    "dog_license['BreedName'] = dog_license['BreedName'].str.lower()\n",
    "breed_info['Breed'] = breed_info['Breed'].str.lower()\n",
    "# remove trailing white spaces\n",
    "dog_license['BreedName'] = dog_license['BreedName'].str.strip()\n",
    "breed_info['Breed'] = breed_info['Breed'].str.strip()\n",
    "\n"
   ]
  },
  {
   "cell_type": "code",
   "execution_count": 27,
   "id": "d7a1f021",
   "metadata": {},
   "outputs": [],
   "source": [
    "from fuzzywuzzy import fuzz"
   ]
  },
  {
   "cell_type": "code",
   "execution_count": 386,
   "id": "353d2971",
   "metadata": {},
   "outputs": [
    {
     "data": {
      "text/html": [
       "<div>\n",
       "<style scoped>\n",
       "    .dataframe tbody tr th:only-of-type {\n",
       "        vertical-align: middle;\n",
       "    }\n",
       "\n",
       "    .dataframe tbody tr th {\n",
       "        vertical-align: top;\n",
       "    }\n",
       "\n",
       "    .dataframe thead th {\n",
       "        text-align: right;\n",
       "    }\n",
       "</style>\n",
       "<table border=\"1\" class=\"dataframe\">\n",
       "  <thead>\n",
       "    <tr style=\"text-align: right;\">\n",
       "      <th></th>\n",
       "      <th>AnimalName</th>\n",
       "      <th>AnimalGender</th>\n",
       "      <th>AnimalBirthYear</th>\n",
       "      <th>BreedName</th>\n",
       "      <th>ZipCode</th>\n",
       "      <th>LicenseIssuedDate</th>\n",
       "      <th>LicenseExpiredDate</th>\n",
       "      <th>Extract Year</th>\n",
       "      <th>newbreed</th>\n",
       "    </tr>\n",
       "  </thead>\n",
       "  <tbody>\n",
       "    <tr>\n",
       "      <th>0</th>\n",
       "      <td>PAIGE</td>\n",
       "      <td>F</td>\n",
       "      <td>2014</td>\n",
       "      <td>Bull Terrier</td>\n",
       "      <td>10035</td>\n",
       "      <td>2014-09-12</td>\n",
       "      <td>2017-09-12</td>\n",
       "      <td>2016</td>\n",
       "      <td></td>\n",
       "    </tr>\n",
       "    <tr>\n",
       "      <th>1</th>\n",
       "      <td>YOGI</td>\n",
       "      <td>M</td>\n",
       "      <td>2010</td>\n",
       "      <td>boxer</td>\n",
       "      <td>10465</td>\n",
       "      <td>2014-09-12</td>\n",
       "      <td>2017-10-02</td>\n",
       "      <td>2016</td>\n",
       "      <td></td>\n",
       "    </tr>\n",
       "    <tr>\n",
       "      <th>2</th>\n",
       "      <td>ALI</td>\n",
       "      <td>M</td>\n",
       "      <td>2014</td>\n",
       "      <td>basenji</td>\n",
       "      <td>10013</td>\n",
       "      <td>2014-09-12</td>\n",
       "      <td>2019-09-12</td>\n",
       "      <td>2016</td>\n",
       "      <td></td>\n",
       "    </tr>\n",
       "    <tr>\n",
       "      <th>3</th>\n",
       "      <td>QUEEN</td>\n",
       "      <td>F</td>\n",
       "      <td>2013</td>\n",
       "      <td>akita crossbreed</td>\n",
       "      <td>10013</td>\n",
       "      <td>2014-09-12</td>\n",
       "      <td>2017-09-12</td>\n",
       "      <td>2016</td>\n",
       "      <td></td>\n",
       "    </tr>\n",
       "    <tr>\n",
       "      <th>4</th>\n",
       "      <td>LOLA</td>\n",
       "      <td>F</td>\n",
       "      <td>2009</td>\n",
       "      <td>maltese</td>\n",
       "      <td>10028</td>\n",
       "      <td>2014-09-12</td>\n",
       "      <td>2017-10-09</td>\n",
       "      <td>2016</td>\n",
       "      <td></td>\n",
       "    </tr>\n",
       "  </tbody>\n",
       "</table>\n",
       "</div>"
      ],
      "text/plain": [
       "  AnimalName AnimalGender  AnimalBirthYear         BreedName  ZipCode  \\\n",
       "0      PAIGE            F             2014      Bull Terrier    10035   \n",
       "1       YOGI            M             2010             boxer    10465   \n",
       "2        ALI            M             2014           basenji    10013   \n",
       "3      QUEEN            F             2013  akita crossbreed    10013   \n",
       "4       LOLA            F             2009           maltese    10028   \n",
       "\n",
       "  LicenseIssuedDate LicenseExpiredDate  Extract Year newbreed  \n",
       "0        2014-09-12         2017-09-12          2016           \n",
       "1        2014-09-12         2017-10-02          2016           \n",
       "2        2014-09-12         2019-09-12          2016           \n",
       "3        2014-09-12         2017-09-12          2016           \n",
       "4        2014-09-12         2017-10-09          2016           "
      ]
     },
     "execution_count": 386,
     "metadata": {},
     "output_type": "execute_result"
    }
   ],
   "source": [
    "dog_license['newbreed']=\"\"\n",
    "dog_license.head()"
   ]
  },
  {
   "cell_type": "code",
   "execution_count": 387,
   "id": "0a55963d",
   "metadata": {},
   "outputs": [],
   "source": [
    "breedlist=breed_info.Breed.tolist()\n",
    "def getbreed(breed1):\n",
    "    \n",
    "    for x in breedlist:\n",
    "        bestRatio = 0\n",
    "    \n",
    "        bestBreedMatch= 'unknown'\n",
    "        currentRatio = 0\n",
    "        currentRatio = fuzz.token_set_ratio(breed1,x)\n",
    "        if currentRatio > 70 and currentRatio > bestRatio:\n",
    "            bestRatio = currentRatio\n",
    "            bestBreedMatch = x\n",
    "            return bestBreedMatch\n",
    "        \n",
    "    return bestBreedMatch      \n"
   ]
  },
  {
   "cell_type": "code",
   "execution_count": 388,
   "id": "9d25b398",
   "metadata": {},
   "outputs": [],
   "source": [
    "#for loop to populate the new breed column that would help us join the two tables in tableau\n",
    "counter = 0\n",
    "for a in dog_license.BreedName:\n",
    "    dog_license.iloc[counter,8] =getbreed(a)\n",
    "    counter+=1             \n",
    "    "
   ]
  },
  {
   "cell_type": "code",
   "execution_count": 389,
   "id": "a352a523",
   "metadata": {},
   "outputs": [
    {
     "data": {
      "text/html": [
       "<div>\n",
       "<style scoped>\n",
       "    .dataframe tbody tr th:only-of-type {\n",
       "        vertical-align: middle;\n",
       "    }\n",
       "\n",
       "    .dataframe tbody tr th {\n",
       "        vertical-align: top;\n",
       "    }\n",
       "\n",
       "    .dataframe thead th {\n",
       "        text-align: right;\n",
       "    }\n",
       "</style>\n",
       "<table border=\"1\" class=\"dataframe\">\n",
       "  <thead>\n",
       "    <tr style=\"text-align: right;\">\n",
       "      <th></th>\n",
       "      <th>AnimalName</th>\n",
       "      <th>AnimalGender</th>\n",
       "      <th>AnimalBirthYear</th>\n",
       "      <th>BreedName</th>\n",
       "      <th>ZipCode</th>\n",
       "      <th>LicenseIssuedDate</th>\n",
       "      <th>LicenseExpiredDate</th>\n",
       "      <th>Extract Year</th>\n",
       "      <th>newbreed</th>\n",
       "    </tr>\n",
       "  </thead>\n",
       "  <tbody>\n",
       "    <tr>\n",
       "      <th>0</th>\n",
       "      <td>PAIGE</td>\n",
       "      <td>F</td>\n",
       "      <td>2014</td>\n",
       "      <td>Bull Terrier</td>\n",
       "      <td>10035</td>\n",
       "      <td>2014-09-12</td>\n",
       "      <td>2017-09-12</td>\n",
       "      <td>2016</td>\n",
       "      <td>black russian terrier</td>\n",
       "    </tr>\n",
       "    <tr>\n",
       "      <th>1</th>\n",
       "      <td>YOGI</td>\n",
       "      <td>M</td>\n",
       "      <td>2010</td>\n",
       "      <td>boxer</td>\n",
       "      <td>10465</td>\n",
       "      <td>2014-09-12</td>\n",
       "      <td>2017-10-02</td>\n",
       "      <td>2016</td>\n",
       "      <td>boxer</td>\n",
       "    </tr>\n",
       "    <tr>\n",
       "      <th>2</th>\n",
       "      <td>ALI</td>\n",
       "      <td>M</td>\n",
       "      <td>2014</td>\n",
       "      <td>basenji</td>\n",
       "      <td>10013</td>\n",
       "      <td>2014-09-12</td>\n",
       "      <td>2019-09-12</td>\n",
       "      <td>2016</td>\n",
       "      <td>basenji</td>\n",
       "    </tr>\n",
       "    <tr>\n",
       "      <th>3</th>\n",
       "      <td>QUEEN</td>\n",
       "      <td>F</td>\n",
       "      <td>2013</td>\n",
       "      <td>akita crossbreed</td>\n",
       "      <td>10013</td>\n",
       "      <td>2014-09-12</td>\n",
       "      <td>2017-09-12</td>\n",
       "      <td>2016</td>\n",
       "      <td>akita</td>\n",
       "    </tr>\n",
       "    <tr>\n",
       "      <th>4</th>\n",
       "      <td>LOLA</td>\n",
       "      <td>F</td>\n",
       "      <td>2009</td>\n",
       "      <td>maltese</td>\n",
       "      <td>10028</td>\n",
       "      <td>2014-09-12</td>\n",
       "      <td>2017-10-09</td>\n",
       "      <td>2016</td>\n",
       "      <td>maltese</td>\n",
       "    </tr>\n",
       "    <tr>\n",
       "      <th>...</th>\n",
       "      <td>...</td>\n",
       "      <td>...</td>\n",
       "      <td>...</td>\n",
       "      <td>...</td>\n",
       "      <td>...</td>\n",
       "      <td>...</td>\n",
       "      <td>...</td>\n",
       "      <td>...</td>\n",
       "      <td>...</td>\n",
       "    </tr>\n",
       "    <tr>\n",
       "      <th>145</th>\n",
       "      <td>SOLO</td>\n",
       "      <td>M</td>\n",
       "      <td>2008</td>\n",
       "      <td>Bull Terrier</td>\n",
       "      <td>11234</td>\n",
       "      <td>2014-09-21</td>\n",
       "      <td>2019-06-10</td>\n",
       "      <td>2016</td>\n",
       "      <td>black russian terrier</td>\n",
       "    </tr>\n",
       "    <tr>\n",
       "      <th>146</th>\n",
       "      <td>ZOE</td>\n",
       "      <td>F</td>\n",
       "      <td>2004</td>\n",
       "      <td>havanese</td>\n",
       "      <td>11231</td>\n",
       "      <td>2014-09-21</td>\n",
       "      <td>2019-10-31</td>\n",
       "      <td>2016</td>\n",
       "      <td>unknown</td>\n",
       "    </tr>\n",
       "    <tr>\n",
       "      <th>147</th>\n",
       "      <td>HANNAH</td>\n",
       "      <td>F</td>\n",
       "      <td>2014</td>\n",
       "      <td>schnauzer, miniature</td>\n",
       "      <td>10019</td>\n",
       "      <td>2014-09-21</td>\n",
       "      <td>2019-09-21</td>\n",
       "      <td>2016</td>\n",
       "      <td>giant schnauzer</td>\n",
       "    </tr>\n",
       "    <tr>\n",
       "      <th>148</th>\n",
       "      <td>CHANCE</td>\n",
       "      <td>M</td>\n",
       "      <td>2008</td>\n",
       "      <td>border terrier</td>\n",
       "      <td>11234</td>\n",
       "      <td>2014-09-21</td>\n",
       "      <td>2019-09-21</td>\n",
       "      <td>2016</td>\n",
       "      <td>airdale terrier</td>\n",
       "    </tr>\n",
       "    <tr>\n",
       "      <th>149</th>\n",
       "      <td>PATCH</td>\n",
       "      <td>M</td>\n",
       "      <td>2004</td>\n",
       "      <td>maltese</td>\n",
       "      <td>10016</td>\n",
       "      <td>2014-09-21</td>\n",
       "      <td>2019-10-02</td>\n",
       "      <td>2016</td>\n",
       "      <td>maltese</td>\n",
       "    </tr>\n",
       "  </tbody>\n",
       "</table>\n",
       "<p>150 rows × 9 columns</p>\n",
       "</div>"
      ],
      "text/plain": [
       "    AnimalName AnimalGender  AnimalBirthYear             BreedName  ZipCode  \\\n",
       "0        PAIGE            F             2014          Bull Terrier    10035   \n",
       "1         YOGI            M             2010                 boxer    10465   \n",
       "2          ALI            M             2014               basenji    10013   \n",
       "3        QUEEN            F             2013      akita crossbreed    10013   \n",
       "4         LOLA            F             2009               maltese    10028   \n",
       "..         ...          ...              ...                   ...      ...   \n",
       "145       SOLO            M             2008          Bull Terrier    11234   \n",
       "146        ZOE            F             2004              havanese    11231   \n",
       "147     HANNAH            F             2014  schnauzer, miniature    10019   \n",
       "148     CHANCE            M             2008        border terrier    11234   \n",
       "149      PATCH            M             2004               maltese    10016   \n",
       "\n",
       "    LicenseIssuedDate LicenseExpiredDate  Extract Year               newbreed  \n",
       "0          2014-09-12         2017-09-12          2016  black russian terrier  \n",
       "1          2014-09-12         2017-10-02          2016                  boxer  \n",
       "2          2014-09-12         2019-09-12          2016                basenji  \n",
       "3          2014-09-12         2017-09-12          2016                  akita  \n",
       "4          2014-09-12         2017-10-09          2016                maltese  \n",
       "..                ...                ...           ...                    ...  \n",
       "145        2014-09-21         2019-06-10          2016  black russian terrier  \n",
       "146        2014-09-21         2019-10-31          2016                unknown  \n",
       "147        2014-09-21         2019-09-21          2016        giant schnauzer  \n",
       "148        2014-09-21         2019-09-21          2016        airdale terrier  \n",
       "149        2014-09-21         2019-10-02          2016                maltese  \n",
       "\n",
       "[150 rows x 9 columns]"
      ]
     },
     "execution_count": 389,
     "metadata": {},
     "output_type": "execute_result"
    }
   ],
   "source": [
    "dog_license.head(150)\n"
   ]
  },
  {
   "cell_type": "code",
   "execution_count": 390,
   "id": "be9386dc",
   "metadata": {},
   "outputs": [
    {
     "data": {
      "text/plain": [
       "0.0"
      ]
     },
     "execution_count": 390,
     "metadata": {},
     "output_type": "execute_result"
    }
   ],
   "source": [
    "status=(((dog_license.newbreed==\"\").sum())*100)/(len(dog_license))\n",
    "status"
   ]
  },
  {
   "cell_type": "code",
   "execution_count": 391,
   "id": "9ec7bcd3",
   "metadata": {},
   "outputs": [
    {
     "data": {
      "text/plain": [
       "18.711025665749027"
      ]
     },
     "execution_count": 391,
     "metadata": {},
     "output_type": "execute_result"
    }
   ],
   "source": [
    "status=(((dog_license.newbreed==\"unknown\").sum())*100)/(len(dog_license))\n",
    "status"
   ]
  },
  {
   "cell_type": "code",
   "execution_count": 392,
   "id": "dc668071",
   "metadata": {},
   "outputs": [
    {
     "data": {
      "text/plain": [
       "95087"
      ]
     },
     "execution_count": 392,
     "metadata": {},
     "output_type": "execute_result"
    }
   ],
   "source": [
    "(dog_license.newbreed==\"unknown\").sum()"
   ]
  },
  {
   "cell_type": "code",
   "execution_count": 393,
   "id": "7a374e7b",
   "metadata": {},
   "outputs": [
    {
     "name": "stdout",
     "output_type": "stream",
     "text": [
      "unknown\n",
      "havanese\n",
      "kooikerhondje\n",
      "puggle\n",
      "lhasa apso\n",
      "labradoodle\n",
      "cane corso\n",
      "american english coonhound\n",
      "pekingese\n",
      "portuguese podengo pequeno\n",
      "catahoula leopard dog\n",
      "lancashire heeler\n",
      "coonhound, treeing walker\n",
      "cockapoo\n",
      "jindo dog, korea\n",
      "eurasier\n",
      "bluetick coonhound\n",
      "coonhound, blue tick\n",
      "leonberger\n",
      "jindo\n",
      "dogue de bordeaux\n",
      "xoloitzcuintli\n",
      "german spitz\n",
      "lowchen\n",
      "lagotto romagnolo\n",
      "perro de presa canario\n",
      "bolognese\n",
      "karelian bear dog\n",
      "mudi\n",
      "maltipoo\n",
      "fila brasileiro\n",
      "morkie\n",
      "treeing walker coonhound\n",
      "goldendoodle\n",
      "kai ken\n",
      "treeing tennessee brindle\n",
      "dogo argentino\n",
      "peruvian inca orchid\n",
      "hovawart\n",
      "boykin spaniel\n",
      "otterhound\n",
      "boerboel\n",
      "chinook\n",
      "bracco italiano\n",
      "kromfohrlander\n",
      "spanish water dog\n",
      "cirneco dell\n",
      "pyrenean shepherd\n",
      "berger picard\n",
      "barbet\n",
      "hamiltonstovare\n",
      "finnish lapphund\n",
      "swedish vallhund\n",
      "pomsky\n",
      "jagdterrier\n",
      "shepard crossbreed\n",
      "azawakh\n",
      "baladi\n",
      "tosa\n",
      "stabyhoun\n",
      "kishu ken\n",
      "swedish lapphund\n",
      "greek shephard\n",
      "alaskan klee kai\n",
      "olde english bulldogge\n",
      "tornjak\n",
      "not provided\n",
      "cavachon\n",
      "zuchon\n",
      "mixed hound\n",
      "english golden doodle\n",
      "shih-poo\n",
      "mixed breed\n",
      "shihpoo\n",
      "husky mixed\n",
      "teddy bear\n",
      "malti-zu\n",
      "mi-ki\n",
      "pit bull\n",
      "pitbull\n",
      "hound mixed\n",
      "red nose pit bull\n",
      "cavapoo\n",
      "hound/pit bull\n",
      "cattle dog - blue healer\n",
      "blue merle sheltie\n",
      "yellow labrador\n",
      "norkie\n",
      "mixed\n",
      "unknown (stray)\n",
      "american bulldog\n",
      "terr / shep\n",
      "yorkie poo\n",
      "black lab mix\n",
      "yorkiepoo\n",
      "crossbreed\n",
      "chorkie\n",
      "unknown breed?\n",
      "doxie\n",
      "wheaton mix\n",
      "pit bull mix\n",
      "labrador - pit bull mix\n",
      "havapoo\n",
      "bl ns pit bull\n",
      "cock-a-poo\n",
      "am staff ter x\n",
      "cocker/cavalier\n",
      "maltepoo\n",
      "shepard mix\n",
      "poochon\n",
      "mutt\n",
      "yorkie-poo\n",
      "shorkie\n",
      "collie shepherd mix\n",
      "shih tzo mix\n",
      "husky/collie mix\n",
      "pit bull x\n",
      "hound/yellow labrador\n",
      "yorkie mix\n",
      "mini shepherd x\n",
      "canine\n",
      "mini pinscher mixed\n",
      "terri / havanese\n",
      "yorki-poo\n",
      "rabies,bordetella\n",
      "peekapoo\n",
      "shimalt\n",
      "malchi\n",
      "cigi\n",
      "brindle pit bull\n",
      "shepherd/collie mix\n",
      "malti-poo\n",
      "cav king c.span\n",
      "chi wee nie\n",
      "shep mix\n",
      "whoodle\n",
      "mix\n",
      "peke-a-pom\n",
      "golden retr/corgy mix\n",
      "catahoula\n",
      "ir terr/bas hou\n",
      "irish weaton\n",
      "ori-pei\n",
      "bichon f/t pdle\n",
      "chi-poo\n",
      "pit mix\n",
      "jack russ mix\n",
      "chish x\n",
      "golden doodle\n",
      "jack russell\n",
      "malt - poo\n",
      "blue nose pit bull /american pit bull mix\n",
      "corgi/retriev x\n",
      "malsish\n",
      "cava poo\n",
      "louisiana catahoula leopard\n",
      "rat terr mix\n",
      "fox ter/c.span\n",
      "shepherd/collie\n",
      "shih poo\n",
      "collie/shep mix\n",
      "schnoodle\n",
      "goldendoddle\n",
      "jack russell  cross\n",
      "w high wt terr\n",
      "peek-a-poo\n",
      "chih pomer\n",
      "coonhound/shepherd mix\n",
      "husky/kelpie\n",
      "viszla mix\n",
      "lab mix\n",
      "havacov\n",
      "shihtzu-a-poo\n",
      "peka-poo\n",
      "peke-a-poo/shih-poo\n",
      "westie\n",
      "shorky\n",
      "chih/poo\n",
      "cock a poo\n",
      "bl nose pit bull\n",
      "mini aust shep\n",
      "labra doodle\n",
      "shihmalt\n",
      "lhaso apso mix\n",
      "parson russell terr\n",
      "fox hound mix\n",
      "berger pichard\n",
      "shotzy mix\n",
      "lhasa apso mix\n",
      "yorkidoodle\n",
      "toy aussie\n",
      "lab/doberman/sheepdog\n",
      "blue heeler\n",
      "havanese mix\n",
      "yorkie mixed\n",
      "stafford shire mix\n",
      "cockalier\n",
      "pit bull  mix\n",
      "shepherd /pit bull mix\n",
      "unknown/cross\n",
      "corky mix\n",
      "shinese\n",
      "boggle\n",
      "corg mix\n",
      "lhasa poo\n",
      "russkiy toy smoothhaired\n",
      "huckapoo\n",
      "malshipoo\n",
      "shichon\n",
      "jack russel  & toy fox terr\n",
      "mix/hound/lab\n",
      "coocker-poo\n",
      "chih/dach mix\n",
      "rotweiller, german shepard\n",
      "breed?\n",
      "havachon\n",
      "lhasa-poo\n",
      "feist mix\n",
      "lhasa/malt\n",
      "malti-shi\n",
      "peek -a-poo\n",
      "british lab\n",
      "labrador/fox terr mix\n",
      "retreiver x\n",
      "frenchie\n",
      "breed information not provided.\n",
      "lhasa apso/terr\n",
      "blue nose pit bull\n",
      "malti poo\n",
      "dutch shepherd mix\n",
      "catahoula leopard\n",
      "yellow lab mix\n",
      "golden retr/cattle dog\n",
      "yorkie\n",
      "husky x lab\n",
      "havadoodle\n",
      "aussie doxi   x\n",
      "yorkie/westy   x\n",
      "ger/bor coll x\n",
      "askal\n",
      "shiffon\n",
      "pit bull/shepherd\n",
      "spanish wt.dog\n",
      "shicon\n",
      "sharpei / puggle\n",
      "labrado/great d\n",
      "mahshih\n",
      "lhasa-bijon\n",
      "multi-poo\n",
      "snoodle\n",
      "lab terr x\n",
      "germ shep/husky\n",
      "shep/doxie\n",
      "retriver mixed\n",
      "bichon/cairn\n",
      "lab terr mix\n",
      "cross breed\n",
      "yorkie-poo mix\n",
      "pit/lab\n",
      "softc wheat ter\n",
      "blue nose pit bull terr\n",
      "yellow lab\n",
      "dach / chih\n",
      "corgi or jack russell mixed with black lab and pit\n",
      "other\n",
      "brauzer\n",
      "slorky\n",
      "ori pei\n",
      "mixed / ?\n",
      "potcake\n",
      "malte-poo\n",
      "westminster ter\n",
      "6152012\n",
      "chihua/ter/dsch\n",
      "yorkie poo grezley\n",
      "mini labra-doodle\n",
      "pekingese mix\n",
      "golden retreiver/great prenees\n",
      "bugg\n",
      "pompoo\n",
      "shit-zu mix\n",
      "bergamasco\n",
      "jack russ terr mix\n",
      "taiwan mountain\n",
      "peke-a-poo\n",
      "caroline dog\n",
      "aussie cattle dog heeler\n",
      "irish jack russ\n",
      "mini golden doodle\n",
      "labrador/g.shep\n",
      "black lab multi\n",
      "catahoula leopard cur\n",
      "catahoula leopard/mix\n",
      "westi-poo\n",
      "shipa\n",
      "terr mix\n",
      "chih mix\n",
      "chiweenie\n",
      "mini labradoodle\n",
      "yorkie rat terr\n",
      "matipoo\n",
      "morky\n",
      "labrador/cattle dog\n",
      "pomapoo\n",
      "small munsterlander\n",
      "jack russell terr mix\n",
      "collie- shepherd mix\n",
      "chih jack russ\n",
      "chintese\n",
      "yorkie terr mix\n",
      "unknown mix\n",
      "pekopoo\n",
      "no idea\n",
      "cocoer-poo\n",
      "mini pin mixed\n",
      "hava poo\n",
      "schnoodle x\n",
      "shih chon\n",
      "catahoula lab mix\n",
      "perkingese/daschund mix\n",
      "chih terr\n",
      "lhasa apso/pood\n",
      "chi/doxen\n",
      "dach mix\n",
      "bost terr/lhasa\n",
      "heeler/collie mix\n",
      "hunting dog/rescue\n",
      "peakapoo\n",
      "yorki-tzu\n",
      "yorky\n",
      "maltapoo\n",
      "havapeke\n",
      "pit bull terr mix\n",
      "pitbull mix\n",
      "lab gold ret cross\n",
      "boston bulldog\n",
      "italian/sicilian hound\n",
      "jack rus chihua\n",
      "blue heeler / schnauser\n",
      "labradoodle mini\n",
      "aust heller mix\n",
      "prynese/lab x\n",
      "shepherd/hound/lab\n",
      "collie/shepherd mix\n",
      "pit ter lab\n",
      "jack russell / mini aussie mix\n",
      "cattledog mixed\n",
      "malkie\n",
      "multi\n",
      "shihchon\n",
      "jack russell mix\n",
      "jackabee /russ\n",
      "lhasa apso/shih\n",
      "yellow lab/shepherd mix\n",
      "pekapoo\n",
      "russel\n",
      "poo-chon\n",
      "chi/dach mix\n",
      "manchester shepherd mix\n",
      "lhasa apso miix\n",
      "carolina mix\n",
      "cocka-poo\n",
      "amer pit bull terr mix\n",
      "austrian hunting\n",
      "am pit bull mix\n",
      "american pit bull\n",
      "pek-a-tese\n",
      "king ch bichon\n",
      "petersburg orchid\n",
      "sheep dog\n",
      "poemranan mix\n",
      "staffordshire ibizian hound\n",
      "podengo pequeno\n",
      "lab golden mix\n",
      "lab/shepherd mix\n",
      "bernedoodle\n",
      "labrador / pit bull mix\n",
      "pit\n",
      "shihtese\n",
      "pit bull/lab.\n",
      "red pit mix\n",
      "royal bah potca\n",
      "bea/ gold/ ret mix\n",
      "chi-yorkie\n",
      "mini pin mix\n",
      "x golden wolf hound\n",
      "coca-poo\n",
      "pitbull-bulldog\n",
      "maltpoo\n",
      "blue nose pitbull\n",
      "pitbull mixed red/blue nose\n",
      "cav kc\n",
      "goldendoole\n",
      "hound/lab mix\n",
      "lab/corgi x\n",
      "aus shep/heeler/ret\n",
      "dachshun/chihua\n",
      "polanese\n",
      "unknown hound mix\n",
      "blackmouthcur\n",
      "sheltie shep mix\n",
      "sheltie/jack russ mix\n",
      "hound/labrador mix\n",
      "pit bull/lab mix\n",
      "lab mutt mix\n",
      "wire fox terr mix\n",
      "husky/germ shepherd mix\n",
      "shepherd pintzer\n",
      "spanador\n",
      "papitese\n",
      "walker hound\n",
      "havashire\n",
      "husky ger shep hound\n",
      "jack russell x\n",
      "pom-chi\n",
      "peke-a-tese\n",
      "husky/lab mix\n",
      "coockapoo\n",
      "cav king ch sp /mix\n",
      "frend poo\n",
      "biewer terr\n",
      "golden ret husky mix\n",
      "shi-poo\n",
      "peak-a-poo\n",
      "teddy-bear\n",
      "cava-poo\n",
      "schanuzer/yorkie\n",
      "shiht-zu imperial\n",
      "sapsal, korea\n",
      "cockachon\n",
      "cavashon\n",
      "malt mix\n",
      "tiny goldendoodle\n",
      "jack russ / chih\n",
      "mix breed\n",
      "shih-poo mix\n",
      "rat terr\n",
      "lab/hound mix\n",
      "lab retriver + pitt bull\n",
      "dogo/pitbull/bulldog mix\n",
      "westiepoo\n",
      "cavazoo\n",
      "lab/collie mix\n",
      "terr dash mix\n",
      "schnocker\n",
      "airedale\n",
      "cockerpoo\n",
      "scott terr/shih tsu\n",
      "shoorkie\n",
      "lab/spaniel mix\n",
      "peke a ppp\n",
      "lhasa mix\n",
      "lab/pit mix\n",
      "laasa apso mix\n",
      "pit/lab   x\n",
      "bichon/shihtzu\n",
      "cocka poo\n",
      "pom / yorkie\n",
      "podenao port\n",
      "breed ?\n",
      "cur\n",
      "lab mixed\n",
      "sato x\n",
      "lab/pit bull\n",
      "shepherd/rottix\n"
     ]
    }
   ],
   "source": [
    "unknowns= dog_license.loc[dog_license['newbreed'] == \"unknown\"]\n",
    "for dog in unknowns.BreedName.unique():\n",
    "    print(dog)"
   ]
  },
  {
   "cell_type": "code",
   "execution_count": 383,
   "id": "25a76222",
   "metadata": {},
   "outputs": [
    {
     "data": {
      "text/plain": [
       "697"
      ]
     },
     "execution_count": 383,
     "metadata": {},
     "output_type": "execute_result"
    }
   ],
   "source": [
    "unknowns.BreedName.nunique()"
   ]
  },
  {
   "cell_type": "code",
   "execution_count": 394,
   "id": "f419bedf",
   "metadata": {},
   "outputs": [
    {
     "data": {
      "text/plain": [
       "0"
      ]
     },
     "execution_count": 394,
     "metadata": {},
     "output_type": "execute_result"
    }
   ],
   "source": [
    "missing_values_count = dog_license.newbreed.isnull().sum()\n",
    "missing_values_count"
   ]
  },
  {
   "cell_type": "code",
   "execution_count": 397,
   "id": "768ef4eb",
   "metadata": {},
   "outputs": [
    {
     "data": {
      "text/html": [
       "<div>\n",
       "<style scoped>\n",
       "    .dataframe tbody tr th:only-of-type {\n",
       "        vertical-align: middle;\n",
       "    }\n",
       "\n",
       "    .dataframe tbody tr th {\n",
       "        vertical-align: top;\n",
       "    }\n",
       "\n",
       "    .dataframe thead th {\n",
       "        text-align: right;\n",
       "    }\n",
       "</style>\n",
       "<table border=\"1\" class=\"dataframe\">\n",
       "  <thead>\n",
       "    <tr style=\"text-align: right;\">\n",
       "      <th></th>\n",
       "      <th>AnimalName</th>\n",
       "      <th>AnimalGender</th>\n",
       "      <th>AnimalBirthYear</th>\n",
       "      <th>BreedName</th>\n",
       "      <th>ZipCode</th>\n",
       "      <th>LicenseIssuedDate</th>\n",
       "      <th>LicenseExpiredDate</th>\n",
       "      <th>Extract Year</th>\n",
       "      <th>newbreed</th>\n",
       "    </tr>\n",
       "  </thead>\n",
       "  <tbody>\n",
       "    <tr>\n",
       "      <th>5</th>\n",
       "      <td>IAN</td>\n",
       "      <td>M</td>\n",
       "      <td>2006</td>\n",
       "      <td>unknown</td>\n",
       "      <td>10013</td>\n",
       "      <td>2014-09-12</td>\n",
       "      <td>2019-10-30</td>\n",
       "      <td>2016</td>\n",
       "      <td>unknown</td>\n",
       "    </tr>\n",
       "    <tr>\n",
       "      <th>6</th>\n",
       "      <td>BUDDY</td>\n",
       "      <td>M</td>\n",
       "      <td>2008</td>\n",
       "      <td>unknown</td>\n",
       "      <td>10025</td>\n",
       "      <td>2014-09-12</td>\n",
       "      <td>2017-10-20</td>\n",
       "      <td>2016</td>\n",
       "      <td>unknown</td>\n",
       "    </tr>\n",
       "    <tr>\n",
       "      <th>14</th>\n",
       "      <td>SARAH</td>\n",
       "      <td>F</td>\n",
       "      <td>2012</td>\n",
       "      <td>unknown</td>\n",
       "      <td>10040</td>\n",
       "      <td>2014-09-13</td>\n",
       "      <td>2017-09-13</td>\n",
       "      <td>2016</td>\n",
       "      <td>unknown</td>\n",
       "    </tr>\n",
       "    <tr>\n",
       "      <th>20</th>\n",
       "      <td>OTIS</td>\n",
       "      <td>F</td>\n",
       "      <td>2001</td>\n",
       "      <td>unknown</td>\n",
       "      <td>10011</td>\n",
       "      <td>2014-09-13</td>\n",
       "      <td>2017-09-29</td>\n",
       "      <td>2016</td>\n",
       "      <td>unknown</td>\n",
       "    </tr>\n",
       "    <tr>\n",
       "      <th>23</th>\n",
       "      <td>LOGAN</td>\n",
       "      <td>M</td>\n",
       "      <td>2003</td>\n",
       "      <td>unknown</td>\n",
       "      <td>10011</td>\n",
       "      <td>2014-09-13</td>\n",
       "      <td>2017-10-30</td>\n",
       "      <td>2016</td>\n",
       "      <td>unknown</td>\n",
       "    </tr>\n",
       "  </tbody>\n",
       "</table>\n",
       "</div>"
      ],
      "text/plain": [
       "   AnimalName AnimalGender  AnimalBirthYear BreedName  ZipCode  \\\n",
       "5         IAN            M             2006   unknown    10013   \n",
       "6       BUDDY            M             2008   unknown    10025   \n",
       "14      SARAH            F             2012   unknown    10040   \n",
       "20       OTIS            F             2001   unknown    10011   \n",
       "23      LOGAN            M             2003   unknown    10011   \n",
       "\n",
       "   LicenseIssuedDate LicenseExpiredDate  Extract Year newbreed  \n",
       "5         2014-09-12         2019-10-30          2016  unknown  \n",
       "6         2014-09-12         2017-10-20          2016  unknown  \n",
       "14        2014-09-13         2017-09-13          2016  unknown  \n",
       "20        2014-09-13         2017-09-29          2016  unknown  \n",
       "23        2014-09-13         2017-10-30          2016  unknown  "
      ]
     },
     "execution_count": 397,
     "metadata": {},
     "output_type": "execute_result"
    }
   ],
   "source": [
    "unknowns.head()"
   ]
  },
  {
   "cell_type": "code",
   "execution_count": 424,
   "id": "e1ad66c7",
   "metadata": {},
   "outputs": [
    {
     "data": {
      "text/html": [
       "<div>\n",
       "<style scoped>\n",
       "    .dataframe tbody tr th:only-of-type {\n",
       "        vertical-align: middle;\n",
       "    }\n",
       "\n",
       "    .dataframe tbody tr th {\n",
       "        vertical-align: top;\n",
       "    }\n",
       "\n",
       "    .dataframe thead th {\n",
       "        text-align: right;\n",
       "    }\n",
       "</style>\n",
       "<table border=\"1\" class=\"dataframe\">\n",
       "  <thead>\n",
       "    <tr style=\"text-align: right;\">\n",
       "      <th></th>\n",
       "      <th>height_low_inches</th>\n",
       "      <th>height_high_inches</th>\n",
       "      <th>weight_low_lbs</th>\n",
       "      <th>weight_high_lbs</th>\n",
       "    </tr>\n",
       "  </thead>\n",
       "  <tbody>\n",
       "    <tr>\n",
       "      <th>count</th>\n",
       "      <td>150.000000</td>\n",
       "      <td>150.000000</td>\n",
       "      <td>150.000000</td>\n",
       "      <td>150.000000</td>\n",
       "    </tr>\n",
       "    <tr>\n",
       "      <th>mean</th>\n",
       "      <td>17.720000</td>\n",
       "      <td>20.673333</td>\n",
       "      <td>42.393333</td>\n",
       "      <td>56.973333</td>\n",
       "    </tr>\n",
       "    <tr>\n",
       "      <th>std</th>\n",
       "      <td>6.699063</td>\n",
       "      <td>7.947180</td>\n",
       "      <td>30.908372</td>\n",
       "      <td>41.619069</td>\n",
       "    </tr>\n",
       "    <tr>\n",
       "      <th>min</th>\n",
       "      <td>0.000000</td>\n",
       "      <td>0.000000</td>\n",
       "      <td>0.000000</td>\n",
       "      <td>0.000000</td>\n",
       "    </tr>\n",
       "    <tr>\n",
       "      <th>25%</th>\n",
       "      <td>13.000000</td>\n",
       "      <td>15.000000</td>\n",
       "      <td>18.000000</td>\n",
       "      <td>22.250000</td>\n",
       "    </tr>\n",
       "    <tr>\n",
       "      <th>50%</th>\n",
       "      <td>18.000000</td>\n",
       "      <td>21.000000</td>\n",
       "      <td>40.000000</td>\n",
       "      <td>50.000000</td>\n",
       "    </tr>\n",
       "    <tr>\n",
       "      <th>75%</th>\n",
       "      <td>22.000000</td>\n",
       "      <td>26.750000</td>\n",
       "      <td>60.000000</td>\n",
       "      <td>75.000000</td>\n",
       "    </tr>\n",
       "    <tr>\n",
       "      <th>max</th>\n",
       "      <td>48.000000</td>\n",
       "      <td>66.000000</td>\n",
       "      <td>175.000000</td>\n",
       "      <td>190.000000</td>\n",
       "    </tr>\n",
       "  </tbody>\n",
       "</table>\n",
       "</div>"
      ],
      "text/plain": [
       "       height_low_inches  height_high_inches  weight_low_lbs  weight_high_lbs\n",
       "count         150.000000          150.000000      150.000000       150.000000\n",
       "mean           17.720000           20.673333       42.393333        56.973333\n",
       "std             6.699063            7.947180       30.908372        41.619069\n",
       "min             0.000000            0.000000        0.000000         0.000000\n",
       "25%            13.000000           15.000000       18.000000        22.250000\n",
       "50%            18.000000           21.000000       40.000000        50.000000\n",
       "75%            22.000000           26.750000       60.000000        75.000000\n",
       "max            48.000000           66.000000      175.000000       190.000000"
      ]
     },
     "execution_count": 424,
     "metadata": {},
     "output_type": "execute_result"
    }
   ],
   "source": [
    "# add the hight and weight to the license dataframe\n",
    "breed_info.describe()"
   ]
  },
  {
   "cell_type": "code",
   "execution_count": 425,
   "id": "d43bc815",
   "metadata": {},
   "outputs": [],
   "source": [
    "hl=breed_info.height_low_inches.median()\n",
    "hh=breed_info.height_high_inches.median() \n",
    "wl=breed_info.weight_low_lbs.median()\n",
    "wh=breed_info.weight_high_lbs.median()"
   ]
  },
  {
   "cell_type": "code",
   "execution_count": 426,
   "id": "0e692748",
   "metadata": {},
   "outputs": [],
   "source": [
    "breed_info.loc[len(breed_info.index)] = ['unknown', hl, hh,wl,wh]"
   ]
  },
  {
   "cell_type": "code",
   "execution_count": 431,
   "id": "39b33c94",
   "metadata": {},
   "outputs": [],
   "source": [
    "breed_info.loc[18,'height_low_inches']=hl\n",
    "breed_info.loc[18,'height_high_inches']=hh\n",
    "breed_info.loc[18,'weight_low_lbs']=wl\n",
    "breed_info.loc[18,'weight_high_lbs']=wh\n",
    "breed_info.loc[111,'height_low_inches']=hl\n",
    "breed_info.loc[111,'height_high_inches']=hh\n",
    "breed_info.loc[111,'weight_low_lbs']=wl\n",
    "breed_info.loc[111,'weight_high_lbs']=wh"
   ]
  },
  {
   "cell_type": "code",
   "execution_count": 433,
   "id": "5ef88dc8",
   "metadata": {},
   "outputs": [
    {
     "data": {
      "text/plain": [
       "13.636363636363635"
      ]
     },
     "execution_count": 433,
     "metadata": {},
     "output_type": "execute_result"
    }
   ],
   "source": [
    "peeperpound=30/2.2\n",
    "peeperpound"
   ]
  },
  {
   "cell_type": "code",
   "execution_count": 434,
   "id": "4c4b0fdf",
   "metadata": {},
   "outputs": [],
   "source": [
    "breed_info['peeperday_ml'] = breed_info.apply(lambda row: ((row['weight_low_lbs'] + row['weight_high_lbs'])/2)*peeperpound, axis=1)"
   ]
  },
  {
   "cell_type": "code",
   "execution_count": 435,
   "id": "ef8190b0",
   "metadata": {},
   "outputs": [
    {
     "data": {
      "text/html": [
       "<div>\n",
       "<style scoped>\n",
       "    .dataframe tbody tr th:only-of-type {\n",
       "        vertical-align: middle;\n",
       "    }\n",
       "\n",
       "    .dataframe tbody tr th {\n",
       "        vertical-align: top;\n",
       "    }\n",
       "\n",
       "    .dataframe thead th {\n",
       "        text-align: right;\n",
       "    }\n",
       "</style>\n",
       "<table border=\"1\" class=\"dataframe\">\n",
       "  <thead>\n",
       "    <tr style=\"text-align: right;\">\n",
       "      <th></th>\n",
       "      <th>Breed</th>\n",
       "      <th>height_low_inches</th>\n",
       "      <th>height_high_inches</th>\n",
       "      <th>weight_low_lbs</th>\n",
       "      <th>weight_high_lbs</th>\n",
       "      <th>peeperday_ml</th>\n",
       "    </tr>\n",
       "  </thead>\n",
       "  <tbody>\n",
       "    <tr>\n",
       "      <th>0</th>\n",
       "      <td>akita</td>\n",
       "      <td>26.0</td>\n",
       "      <td>28.0</td>\n",
       "      <td>80.0</td>\n",
       "      <td>120.0</td>\n",
       "      <td>1363.636364</td>\n",
       "    </tr>\n",
       "    <tr>\n",
       "      <th>1</th>\n",
       "      <td>anatolian sheepdog</td>\n",
       "      <td>27.0</td>\n",
       "      <td>29.0</td>\n",
       "      <td>100.0</td>\n",
       "      <td>150.0</td>\n",
       "      <td>1704.545455</td>\n",
       "    </tr>\n",
       "    <tr>\n",
       "      <th>2</th>\n",
       "      <td>bernese mountain dog</td>\n",
       "      <td>23.0</td>\n",
       "      <td>27.0</td>\n",
       "      <td>85.0</td>\n",
       "      <td>110.0</td>\n",
       "      <td>1329.545455</td>\n",
       "    </tr>\n",
       "    <tr>\n",
       "      <th>3</th>\n",
       "      <td>bloodhound</td>\n",
       "      <td>24.0</td>\n",
       "      <td>26.0</td>\n",
       "      <td>80.0</td>\n",
       "      <td>120.0</td>\n",
       "      <td>1363.636364</td>\n",
       "    </tr>\n",
       "    <tr>\n",
       "      <th>4</th>\n",
       "      <td>borzoi</td>\n",
       "      <td>26.0</td>\n",
       "      <td>28.0</td>\n",
       "      <td>70.0</td>\n",
       "      <td>100.0</td>\n",
       "      <td>1159.090909</td>\n",
       "    </tr>\n",
       "  </tbody>\n",
       "</table>\n",
       "</div>"
      ],
      "text/plain": [
       "                  Breed  height_low_inches  height_high_inches  \\\n",
       "0                 akita               26.0                28.0   \n",
       "1    anatolian sheepdog               27.0                29.0   \n",
       "2  bernese mountain dog               23.0                27.0   \n",
       "3            bloodhound               24.0                26.0   \n",
       "4                borzoi               26.0                28.0   \n",
       "\n",
       "   weight_low_lbs  weight_high_lbs  peeperday_ml  \n",
       "0            80.0            120.0   1363.636364  \n",
       "1           100.0            150.0   1704.545455  \n",
       "2            85.0            110.0   1329.545455  \n",
       "3            80.0            120.0   1363.636364  \n",
       "4            70.0            100.0   1159.090909  "
      ]
     },
     "execution_count": 435,
     "metadata": {},
     "output_type": "execute_result"
    }
   ],
   "source": [
    "breed_info.head()"
   ]
  },
  {
   "cell_type": "code",
   "execution_count": 443,
   "id": "e504614e",
   "metadata": {},
   "outputs": [
    {
     "data": {
      "text/html": [
       "<div>\n",
       "<style scoped>\n",
       "    .dataframe tbody tr th:only-of-type {\n",
       "        vertical-align: middle;\n",
       "    }\n",
       "\n",
       "    .dataframe tbody tr th {\n",
       "        vertical-align: top;\n",
       "    }\n",
       "\n",
       "    .dataframe thead th {\n",
       "        text-align: right;\n",
       "    }\n",
       "</style>\n",
       "<table border=\"1\" class=\"dataframe\">\n",
       "  <thead>\n",
       "    <tr style=\"text-align: right;\">\n",
       "      <th></th>\n",
       "      <th>height_low_inches</th>\n",
       "      <th>height_high_inches</th>\n",
       "      <th>weight_low_lbs</th>\n",
       "      <th>weight_high_lbs</th>\n",
       "      <th>peeperday_ml</th>\n",
       "    </tr>\n",
       "  </thead>\n",
       "  <tbody>\n",
       "    <tr>\n",
       "      <th>count</th>\n",
       "      <td>151.000000</td>\n",
       "      <td>151.000000</td>\n",
       "      <td>151.000000</td>\n",
       "      <td>151.000000</td>\n",
       "      <td>151.000000</td>\n",
       "    </tr>\n",
       "    <tr>\n",
       "      <th>mean</th>\n",
       "      <td>17.960265</td>\n",
       "      <td>20.953642</td>\n",
       "      <td>42.907285</td>\n",
       "      <td>57.589404</td>\n",
       "      <td>685.204696</td>\n",
       "    </tr>\n",
       "    <tr>\n",
       "      <th>std</th>\n",
       "      <td>6.350990</td>\n",
       "      <td>7.547262</td>\n",
       "      <td>30.411259</td>\n",
       "      <td>40.962303</td>\n",
       "      <td>482.188242</td>\n",
       "    </tr>\n",
       "    <tr>\n",
       "      <th>min</th>\n",
       "      <td>6.000000</td>\n",
       "      <td>8.000000</td>\n",
       "      <td>2.000000</td>\n",
       "      <td>5.000000</td>\n",
       "      <td>47.727273</td>\n",
       "    </tr>\n",
       "    <tr>\n",
       "      <th>25%</th>\n",
       "      <td>13.000000</td>\n",
       "      <td>15.500000</td>\n",
       "      <td>18.000000</td>\n",
       "      <td>25.000000</td>\n",
       "      <td>296.590909</td>\n",
       "    </tr>\n",
       "    <tr>\n",
       "      <th>50%</th>\n",
       "      <td>18.000000</td>\n",
       "      <td>21.000000</td>\n",
       "      <td>40.000000</td>\n",
       "      <td>50.000000</td>\n",
       "      <td>613.636364</td>\n",
       "    </tr>\n",
       "    <tr>\n",
       "      <th>75%</th>\n",
       "      <td>22.000000</td>\n",
       "      <td>26.500000</td>\n",
       "      <td>60.000000</td>\n",
       "      <td>75.000000</td>\n",
       "      <td>886.363636</td>\n",
       "    </tr>\n",
       "    <tr>\n",
       "      <th>max</th>\n",
       "      <td>48.000000</td>\n",
       "      <td>66.000000</td>\n",
       "      <td>175.000000</td>\n",
       "      <td>190.000000</td>\n",
       "      <td>2488.636364</td>\n",
       "    </tr>\n",
       "  </tbody>\n",
       "</table>\n",
       "</div>"
      ],
      "text/plain": [
       "       height_low_inches  height_high_inches  weight_low_lbs  weight_high_lbs  \\\n",
       "count         151.000000          151.000000      151.000000       151.000000   \n",
       "mean           17.960265           20.953642       42.907285        57.589404   \n",
       "std             6.350990            7.547262       30.411259        40.962303   \n",
       "min             6.000000            8.000000        2.000000         5.000000   \n",
       "25%            13.000000           15.500000       18.000000        25.000000   \n",
       "50%            18.000000           21.000000       40.000000        50.000000   \n",
       "75%            22.000000           26.500000       60.000000        75.000000   \n",
       "max            48.000000           66.000000      175.000000       190.000000   \n",
       "\n",
       "       peeperday_ml  \n",
       "count    151.000000  \n",
       "mean     685.204696  \n",
       "std      482.188242  \n",
       "min       47.727273  \n",
       "25%      296.590909  \n",
       "50%      613.636364  \n",
       "75%      886.363636  \n",
       "max     2488.636364  "
      ]
     },
     "execution_count": 443,
     "metadata": {},
     "output_type": "execute_result"
    }
   ],
   "source": [
    "breed_info.describe()"
   ]
  },
  {
   "cell_type": "code",
   "execution_count": 459,
   "id": "ed6aa2a8",
   "metadata": {},
   "outputs": [
    {
     "data": {
      "text/plain": [
       "Text(0.5, 1.0, 'housing data number of bedrooms histogram')"
      ]
     },
     "execution_count": 459,
     "metadata": {},
     "output_type": "execute_result"
    },
    {
     "data": {
      "image/png": "[encoded data removed]",
      "text/plain": [
       "<Figure size 432x288 with 1 Axes>"
      ]
     },
     "metadata": {
      "needs_background": "light"
     },
     "output_type": "display_data"
    }
   ],
   "source": [
    "hist = breed_info.height_low_inches.hist()\n",
    "plt.title(\"dogs height in inches\")"
   ]
  },
  {
   "cell_type": "code",
   "execution_count": 469,
   "id": "5ab12fd3",
   "metadata": {},
   "outputs": [
    {
     "data": {
      "text/plain": [
       "Text(0.5, 1.0, 'dogs height in inches')"
      ]
     },
     "execution_count": 469,
     "metadata": {},
     "output_type": "execute_result"
    },
    {
     "data": {
      "image/png": "[encoded data removed]",
      "text/plain": [
       "<Figure size 432x288 with 1 Axes>"
      ]
     },
     "metadata": {
      "needs_background": "light"
     },
     "output_type": "display_data"
    }
   ],
   "source": [
    "hist = breed_info.height_high_inches.hist()\n",
    "plt.title(\"dogs height in inches\")"
   ]
  },
  {
   "cell_type": "code",
   "execution_count": 467,
   "id": "ce57bb58",
   "metadata": {},
   "outputs": [
    {
     "data": {
      "text/plain": [
       "Text(0.5, 1.0, 'low weight in lbs')"
      ]
     },
     "execution_count": 467,
     "metadata": {},
     "output_type": "execute_result"
    },
    {
     "data": {
      "image/png": "[encoded data removed]",
      "text/plain": [
       "<Figure size 432x288 with 1 Axes>"
      ]
     },
     "metadata": {
      "needs_background": "light"
     },
     "output_type": "display_data"
    }
   ],
   "source": [
    "hist = breed_info.weight_low_lbs.hist()\n",
    "plt.title(\"low weight in lbs\")"
   ]
  },
  {
   "cell_type": "code",
   "execution_count": 466,
   "id": "d4a8dec4",
   "metadata": {},
   "outputs": [
    {
     "data": {
      "text/plain": [
       "Text(0.5, 1.0, 'high weight in lbs')"
      ]
     },
     "execution_count": 466,
     "metadata": {},
     "output_type": "execute_result"
    },
    {
     "data": {
      "image/png": "[encoded data removed]",
      "text/plain": [
       "<Figure size 432x288 with 1 Axes>"
      ]
     },
     "metadata": {
      "needs_background": "light"
     },
     "output_type": "display_data"
    }
   ],
   "source": [
    "hist = breed_info.weight_high_lbs.hist()\n",
    "plt.title('high weight in lbs')"
   ]
  },
  {
   "cell_type": "code",
   "execution_count": 465,
   "id": "bfd93535",
   "metadata": {},
   "outputs": [
    {
     "data": {
      "text/plain": [
       "Text(0.5, 1.0, 'pee per day in ml')"
      ]
     },
     "execution_count": 465,
     "metadata": {},
     "output_type": "execute_result"
    },
    {
     "data": {
      "image/png": "[encoded data removed]",
      "text/plain": [
       "<Figure size 432x288 with 1 Axes>"
      ]
     },
     "metadata": {
      "needs_background": "light"
     },
     "output_type": "display_data"
    }
   ],
   "source": [
    "hist = breed_info.peeperday_ml.hist()\n",
    "plt.title(\"pee per day in ml\")"
   ]
  },
  {
   "cell_type": "code",
   "execution_count": 470,
   "id": "f508c96b",
   "metadata": {},
   "outputs": [],
   "source": [
    "breed_info.to_csv('cleaned_data/breed_info.csv')\n",
    "trees.to_csv('cleaned_data/trees.csv')\n",
    "dog_license.to_csv('cleaned_data/dog_license.csv')\n"
   ]
  },
  {
   "cell_type": "code",
   "execution_count": null,
   "id": "50f60def",
   "metadata": {},
   "outputs": [],
   "source": []
  }
 ],
 "metadata": {
  "kernelspec": {
   "display_name": "Python 3 (ipykernel)",
   "language": "python",
   "name": "python3"
  },
  "language_info": {
   "codemirror_mode": {
    "name": "ipython",
    "version": 3
   },
   "file_extension": ".py",
   "mimetype": "text/x-python",
   "name": "python",
   "nbconvert_exporter": "python",
   "pygments_lexer": "ipython3",
   "version": "3.9.7"
  }
 },
 "nbformat": 4,
 "nbformat_minor": 5
}
